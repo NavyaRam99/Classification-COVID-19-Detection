{
  "nbformat": 4,
  "nbformat_minor": 0,
  "metadata": {
    "colab": {
      "name": "covid-detection-classification.ipynb",
      "provenance": [],
      "collapsed_sections": [
        "sIJm4La2mAyR"
      ]
    },
    "kernelspec": {
      "display_name": "Python 3",
      "name": "python3"
    },
    "language_info": {
      "name": "python"
    },
    "accelerator": "GPU"
  },
  "cells": [
    {
      "cell_type": "code",
      "metadata": {
        "colab": {
          "base_uri": "https://localhost:8080/"
        },
        "id": "NBiWaVJALN5S",
        "outputId": "69b67440-647d-416d-a350-df9ba5b3b2eb"
      },
      "source": [
        "from google.colab import drive\n",
        "drive.mount('/content/drive')"
      ],
      "execution_count": null,
      "outputs": [
        {
          "output_type": "stream",
          "text": [
            "Go to this URL in a browser: https://accounts.google.com/o/oauth2/auth?client_id=947318989803-6bn6qk8qdgf4n4g3pfee6491hc0brc4i.apps.googleusercontent.com&redirect_uri=urn%3aietf%3awg%3aoauth%3a2.0%3aoob&scope=email%20https%3a%2f%2fwww.googleapis.com%2fauth%2fdocs.test%20https%3a%2f%2fwww.googleapis.com%2fauth%2fdrive%20https%3a%2f%2fwww.googleapis.com%2fauth%2fdrive.photos.readonly%20https%3a%2f%2fwww.googleapis.com%2fauth%2fpeopleapi.readonly%20https%3a%2f%2fwww.googleapis.com%2fauth%2fdrive.activity.readonly%20https%3a%2f%2fwww.googleapis.com%2fauth%2fexperimentsandconfigs%20https%3a%2f%2fwww.googleapis.com%2fauth%2fphotos.native&response_type=code\n",
            "\n",
            "Enter your authorization code:\n",
            "4/1AY0e-g6KPMI1mLdrItaVuJSsaBloZZPaA10lQgWSBh-vuYzf01MSA2_xQ6E\n",
            "Mounted at /content/drive\n"
          ],
          "name": "stdout"
        }
      ]
    },
    {
      "cell_type": "markdown",
      "metadata": {
        "id": "TNsyVUWNjKZx"
      },
      "source": [
        "# Dependencies"
      ]
    },
    {
      "cell_type": "code",
      "metadata": {
        "id": "htjqJ3U7PYQZ"
      },
      "source": [
        "import torch\n",
        "import cv2\n",
        "import torchvision\n",
        "import torchvision.datasets\n",
        "from torchvision.datasets import ImageFolder\n",
        "from torch.utils.data import DataLoader\n",
        "import matplotlib.pyplot as plt\n",
        "import numpy as np\n",
        "from tqdm import tqdm\n",
        "from PIL import Image\n",
        "from glob import glob\n",
        "import os"
      ],
      "execution_count": null,
      "outputs": []
    },
    {
      "cell_type": "code",
      "metadata": {
        "id": "1GLxkSLcjjnU"
      },
      "source": [
        "TEST_DIR=\"/content/drive/MyDrive/final_year_project/outputs/patches7/test\"\n",
        "TRAIN_DIR=\"/content/drive/MyDrive/final_year_project/outputs/patches7/train\"\n",
        "VAL_DIR=\"/content/drive/MyDrive/final_year_project/outputs/patches7/val\""
      ],
      "execution_count": null,
      "outputs": []
    },
    {
      "cell_type": "code",
      "metadata": {
        "id": "cAVmzfK0H5KN"
      },
      "source": [
        "classes=[\"covid\",\"normal\",\"pneumonia\"]"
      ],
      "execution_count": null,
      "outputs": []
    },
    {
      "cell_type": "markdown",
      "metadata": {
        "id": "rX5zCGbgisA-"
      },
      "source": [
        "# Patch Extraction"
      ]
    },
    {
      "cell_type": "code",
      "metadata": {
        "id": "K02o3EkUArkt"
      },
      "source": [
        "\n",
        "def frac_eq_to(image, value=0):\n",
        "    return (image == value).sum() / float(np.prod(image.shape))\n",
        "\n",
        "def extract_patches(image, patchshape, overlap_allowed=0.5, cropvalue=None,\n",
        "                    crop_fraction_allowed=0.1):\n",
        "    \"\"\"\n",
        "    Given an image, extract patches of a given shape with a certain\n",
        "    amount of allowed overlap between patches, using a heuristic to\n",
        "    ensure maximum coverage.\n",
        "    If cropvalue is specified, it is treated as a flag denoting a pixel\n",
        "    that has been cropped. Patch will be rejected if it has more than\n",
        "    crop_fraction_allowed * prod(patchshape) pixels equal to cropvalue.\n",
        "    Likewise, patches will be rejected for having more overlap_allowed\n",
        "    fraction of their pixels contained in a patch already selected.\n",
        "    \"\"\"\n",
        "    jump_cols = int(patchshape[1] * overlap_allowed)\n",
        "    jump_rows = int(patchshape[0] * overlap_allowed)\n",
        "    \n",
        "    # Restrict ourselves to the rectangle containing non-cropped pixels\n",
        "    if cropvalue is not None:\n",
        "        rows, cols = np.where(image != cropvalue)\n",
        "        rows.sort(); cols.sort()\n",
        "        active =  image[rows[0]:rows[-1], cols[0]:cols[-1]]\n",
        "    else:\n",
        "        active = image\n",
        "\n",
        "    rowstart = 0; colstart = 0\n",
        "\n",
        "    # Array tracking where we've already taken patches.\n",
        "    covered = np.zeros(active.shape, dtype=bool)\n",
        "    patches = []\n",
        "\n",
        "    while rowstart < active.shape[0] - patchshape[0]:\n",
        "        # Record whether or not e've found a patch in this row, \n",
        "        # so we know whether to skip ahead.\n",
        "        got_a_patch_this_row = False\n",
        "        colstart = 0\n",
        "        while colstart < active.shape[1] - patchshape[1]:\n",
        "            # Slice tuple indexing the region of our proposed patch\n",
        "            region = (slice(rowstart, rowstart + patchshape[0]),\n",
        "                      slice(colstart, colstart + patchshape[1]))\n",
        "            \n",
        "            # The actual pixels in that region.\n",
        "            patch = active[region]\n",
        "\n",
        "            # The current mask value for that region.\n",
        "            cover_p = covered[region]\n",
        "            if cropvalue is None or \\\n",
        "               frac_eq_to(patch, cropvalue) <= crop_fraction_allowed and \\\n",
        "               frac_eq_to(cover_p, True) <= overlap_allowed:\n",
        "                # Accept the patch.\n",
        "                patches.append(patch)\n",
        "                \n",
        "                # Mask the area.\n",
        "                covered[region] = True\n",
        "                \n",
        "                # Jump ahead in the x direction.\n",
        "                colstart += jump_cols\n",
        "                got_a_patch_this_row = True\n",
        "                #print \"Got a patch at %d, %d\" % (rowstart, colstart)\n",
        "            else:\n",
        "                # Otherwise, shift window across by one pixel.\n",
        "                colstart += 1\n",
        "\n",
        "        if got_a_patch_this_row:\n",
        "            # Jump ahead in the y direction.\n",
        "            rowstart += jump_rows\n",
        "        else:\n",
        "            # Otherwise, shift the window down by one pixel.\n",
        "            rowstart += 1\n",
        "\n",
        "    # Return a 3D array of the patches with the patch index as the first\n",
        "    # dimension (so that patch pixels stay contiguous in memory, in a \n",
        "    # C-ordered array).\n",
        "    return np.concatenate([pat[np.newaxis, ...] for pat in patches], axis=0)\n"
      ],
      "execution_count": null,
      "outputs": []
    },
    {
      "cell_type": "code",
      "metadata": {
        "id": "GKrIKF2mAzJe"
      },
      "source": [
        "def func(img):\n",
        "  return np.average(img)\n",
        "\n",
        "def save_patches(patches,class_name,file_name):\n",
        "  patches=sorted(patches,key=func,reverse=True)[:10]\n",
        "  patch_dir=os.path.join(PATCHES_DIR,cls)\n",
        "  for i in tqdm(range(10)):\n",
        "    file_path=patch_dir+\"/\"+file_name[:-11]+\"_patch\"+str(i)+\".png\"\n",
        "    \n",
        "    img=(patches[i][:, :, 0] * 255.).numpy().astype(np.uint8)\n",
        "    print(file_path)\n",
        "    # cv2.resize(patches[i],(1024,1024))\n",
        "    cv2.imwrite(file_path,img)\n",
        "      "
      ],
      "execution_count": null,
      "outputs": []
    },
    {
      "cell_type": "code",
      "metadata": {
        "id": "Til07qQLA0jb"
      },
      "source": [
        "# for cls in classes:\n",
        "#   for img_path in tqdm(glob(os.path.join(SEGMENTATION_DIR,cls,\"*\"))):\n",
        "    \n",
        "#     img=Image.open(img_path)\n",
        "#     img=np.asarray(img)\n",
        "#     img=cv2.resize(img,(1024,1024))\n",
        "    \n",
        "#     patches=extract_patches(img,(224,224))\n",
        "#     patches=torch.from_numpy(patches)\n",
        "#     file_name=os.path.basename(img_path)\n",
        "    \n",
        "#     save_patches(patches,cls,file_name)"
      ],
      "execution_count": null,
      "outputs": []
    },
    {
      "cell_type": "markdown",
      "metadata": {
        "id": "c2mTH9Luj44L"
      },
      "source": [
        "# Dataloader and Transforms"
      ]
    },
    {
      "cell_type": "code",
      "metadata": {
        "id": "Zs7pJnZqrohH"
      },
      "source": [
        "BATCH_SIZE=20"
      ],
      "execution_count": null,
      "outputs": []
    },
    {
      "cell_type": "code",
      "metadata": {
        "id": "fesEB9fwPlc2"
      },
      "source": [
        "train_transform = torchvision.transforms.Compose([\n",
        "    torchvision.transforms.Resize(size=(1024, 1024)),\n",
        "    torchvision.transforms.RandomHorizontalFlip(),\n",
        "    torchvision.transforms.ToTensor(),\n",
        "    torchvision.transforms.Normalize(mean=[0.3753], std=[0.2937]),\n",
        "    torchvision.transforms.Grayscale(num_output_channels=1)\n",
        "    \n",
        "])\n",
        "test_transform = torchvision.transforms.Compose([\n",
        "    torchvision.transforms.Resize(size=(1024, 1024)),\n",
        "    torchvision.transforms.ToTensor(),\n",
        "        torchvision.transforms.Normalize(mean=[0.3725], std=[0.3040]),\n",
        "\n",
        "    torchvision.transforms.Grayscale(num_output_channels=1)\n",
        "])\n",
        "val_transform = torchvision.transforms.Compose([\n",
        "    torchvision.transforms.Resize(size=(1024, 1024)),\n",
        "    torchvision.transforms.ToTensor(),\n",
        "        torchvision.transforms.Normalize(mean=[0.3992], std=[0.3173]),\n",
        "\n",
        "    torchvision.transforms.Grayscale(num_output_channels=1)\n",
        "])"
      ],
      "execution_count": null,
      "outputs": []
    },
    {
      "cell_type": "code",
      "metadata": {
        "id": "rM1xgPBBPnzV"
      },
      "source": [
        "\n",
        "train_ds=ImageFolder(root=TRAIN_DIR,transform=train_transform,)\n",
        "test_ds=ImageFolder(root=TEST_DIR,transform=test_transform)\n",
        "val_ds=ImageFolder(root=VAL_DIR,transform=val_transform)"
      ],
      "execution_count": null,
      "outputs": []
    },
    {
      "cell_type": "code",
      "metadata": {
        "colab": {
          "base_uri": "https://localhost:8080/"
        },
        "id": "ertBO165PqdI",
        "outputId": "474e24bc-66c9-4be6-e69e-9e2db0e9adba"
      },
      "source": [
        "print(train_ds.class_to_idx)\n",
        "print(test_ds.classes)\n",
        "print(val_ds.classes)"
      ],
      "execution_count": null,
      "outputs": [
        {
          "output_type": "stream",
          "text": [
            "{'covid': 0, 'normal': 1, 'pneumonia': 2}\n",
            "['covid', 'normal', 'pneumonia']\n",
            "['covid', 'normal', 'pneumonia']\n"
          ],
          "name": "stdout"
        }
      ]
    },
    {
      "cell_type": "code",
      "metadata": {
        "colab": {
          "base_uri": "https://localhost:8080/"
        },
        "id": "YDImHZNoPtMN",
        "outputId": "a7f03139-9c90-4862-e9d8-fc676f428df0"
      },
      "source": [
        "\n",
        "train_dl=DataLoader(train_ds,batch_size=BATCH_SIZE,shuffle=True,num_workers=4,pin_memory=True)\n",
        "test_dl=DataLoader(test_ds,batch_size=BATCH_SIZE,num_workers=4,pin_memory=True)\n",
        "val_dl=DataLoader(val_ds,batch_size=BATCH_SIZE,num_workers=4,pin_memory=True)"
      ],
      "execution_count": null,
      "outputs": [
        {
          "output_type": "stream",
          "text": [
            "/usr/local/lib/python3.7/dist-packages/torch/utils/data/dataloader.py:477: UserWarning: This DataLoader will create 4 worker processes in total. Our suggested max number of worker in current system is 2, which is smaller than what this DataLoader is going to create. Please be aware that excessive worker creation might get DataLoader running slow or even freeze, lower the worker number to avoid potential slowness/freeze if necessary.\n",
            "  cpuset_checked))\n"
          ],
          "name": "stderr"
        }
      ]
    },
    {
      "cell_type": "code",
      "metadata": {
        "colab": {
          "base_uri": "https://localhost:8080/"
        },
        "id": "ZeyLmgihPvek",
        "outputId": "b959a7fa-a481-4272-f48d-5472523da8ae"
      },
      "source": [
        "print('Number of training batches', len(train_dl))\n",
        "print('Number of test batches', len(test_dl))\n",
        "print('Number of validation batches', len(val_dl))"
      ],
      "execution_count": null,
      "outputs": [
        {
          "output_type": "stream",
          "text": [
            "Number of training batches 1047\n",
            "Number of test batches 129\n",
            "Number of validation batches 129\n"
          ],
          "name": "stdout"
        }
      ]
    },
    {
      "cell_type": "markdown",
      "metadata": {
        "id": "RzXGnUxxkJ8f"
      },
      "source": [
        "# Load Model"
      ]
    },
    {
      "cell_type": "code",
      "metadata": {
        "colab": {
          "base_uri": "https://localhost:8080/"
        },
        "id": "b1cH0_kOPyPI",
        "outputId": "c1df25d5-02c8-47b7-cfe4-50e687f42b63"
      },
      "source": [
        "resnet18 = torchvision.models.resnet18(pretrained=True)\n",
        "\n",
        "print(resnet18)"
      ],
      "execution_count": null,
      "outputs": [
        {
          "output_type": "stream",
          "text": [
            "ResNet(\n",
            "  (conv1): Conv2d(3, 64, kernel_size=(7, 7), stride=(2, 2), padding=(3, 3), bias=False)\n",
            "  (bn1): BatchNorm2d(64, eps=1e-05, momentum=0.1, affine=True, track_running_stats=True)\n",
            "  (relu): ReLU(inplace=True)\n",
            "  (maxpool): MaxPool2d(kernel_size=3, stride=2, padding=1, dilation=1, ceil_mode=False)\n",
            "  (layer1): Sequential(\n",
            "    (0): BasicBlock(\n",
            "      (conv1): Conv2d(64, 64, kernel_size=(3, 3), stride=(1, 1), padding=(1, 1), bias=False)\n",
            "      (bn1): BatchNorm2d(64, eps=1e-05, momentum=0.1, affine=True, track_running_stats=True)\n",
            "      (relu): ReLU(inplace=True)\n",
            "      (conv2): Conv2d(64, 64, kernel_size=(3, 3), stride=(1, 1), padding=(1, 1), bias=False)\n",
            "      (bn2): BatchNorm2d(64, eps=1e-05, momentum=0.1, affine=True, track_running_stats=True)\n",
            "    )\n",
            "    (1): BasicBlock(\n",
            "      (conv1): Conv2d(64, 64, kernel_size=(3, 3), stride=(1, 1), padding=(1, 1), bias=False)\n",
            "      (bn1): BatchNorm2d(64, eps=1e-05, momentum=0.1, affine=True, track_running_stats=True)\n",
            "      (relu): ReLU(inplace=True)\n",
            "      (conv2): Conv2d(64, 64, kernel_size=(3, 3), stride=(1, 1), padding=(1, 1), bias=False)\n",
            "      (bn2): BatchNorm2d(64, eps=1e-05, momentum=0.1, affine=True, track_running_stats=True)\n",
            "    )\n",
            "  )\n",
            "  (layer2): Sequential(\n",
            "    (0): BasicBlock(\n",
            "      (conv1): Conv2d(64, 128, kernel_size=(3, 3), stride=(2, 2), padding=(1, 1), bias=False)\n",
            "      (bn1): BatchNorm2d(128, eps=1e-05, momentum=0.1, affine=True, track_running_stats=True)\n",
            "      (relu): ReLU(inplace=True)\n",
            "      (conv2): Conv2d(128, 128, kernel_size=(3, 3), stride=(1, 1), padding=(1, 1), bias=False)\n",
            "      (bn2): BatchNorm2d(128, eps=1e-05, momentum=0.1, affine=True, track_running_stats=True)\n",
            "      (downsample): Sequential(\n",
            "        (0): Conv2d(64, 128, kernel_size=(1, 1), stride=(2, 2), bias=False)\n",
            "        (1): BatchNorm2d(128, eps=1e-05, momentum=0.1, affine=True, track_running_stats=True)\n",
            "      )\n",
            "    )\n",
            "    (1): BasicBlock(\n",
            "      (conv1): Conv2d(128, 128, kernel_size=(3, 3), stride=(1, 1), padding=(1, 1), bias=False)\n",
            "      (bn1): BatchNorm2d(128, eps=1e-05, momentum=0.1, affine=True, track_running_stats=True)\n",
            "      (relu): ReLU(inplace=True)\n",
            "      (conv2): Conv2d(128, 128, kernel_size=(3, 3), stride=(1, 1), padding=(1, 1), bias=False)\n",
            "      (bn2): BatchNorm2d(128, eps=1e-05, momentum=0.1, affine=True, track_running_stats=True)\n",
            "    )\n",
            "  )\n",
            "  (layer3): Sequential(\n",
            "    (0): BasicBlock(\n",
            "      (conv1): Conv2d(128, 256, kernel_size=(3, 3), stride=(2, 2), padding=(1, 1), bias=False)\n",
            "      (bn1): BatchNorm2d(256, eps=1e-05, momentum=0.1, affine=True, track_running_stats=True)\n",
            "      (relu): ReLU(inplace=True)\n",
            "      (conv2): Conv2d(256, 256, kernel_size=(3, 3), stride=(1, 1), padding=(1, 1), bias=False)\n",
            "      (bn2): BatchNorm2d(256, eps=1e-05, momentum=0.1, affine=True, track_running_stats=True)\n",
            "      (downsample): Sequential(\n",
            "        (0): Conv2d(128, 256, kernel_size=(1, 1), stride=(2, 2), bias=False)\n",
            "        (1): BatchNorm2d(256, eps=1e-05, momentum=0.1, affine=True, track_running_stats=True)\n",
            "      )\n",
            "    )\n",
            "    (1): BasicBlock(\n",
            "      (conv1): Conv2d(256, 256, kernel_size=(3, 3), stride=(1, 1), padding=(1, 1), bias=False)\n",
            "      (bn1): BatchNorm2d(256, eps=1e-05, momentum=0.1, affine=True, track_running_stats=True)\n",
            "      (relu): ReLU(inplace=True)\n",
            "      (conv2): Conv2d(256, 256, kernel_size=(3, 3), stride=(1, 1), padding=(1, 1), bias=False)\n",
            "      (bn2): BatchNorm2d(256, eps=1e-05, momentum=0.1, affine=True, track_running_stats=True)\n",
            "    )\n",
            "  )\n",
            "  (layer4): Sequential(\n",
            "    (0): BasicBlock(\n",
            "      (conv1): Conv2d(256, 512, kernel_size=(3, 3), stride=(2, 2), padding=(1, 1), bias=False)\n",
            "      (bn1): BatchNorm2d(512, eps=1e-05, momentum=0.1, affine=True, track_running_stats=True)\n",
            "      (relu): ReLU(inplace=True)\n",
            "      (conv2): Conv2d(512, 512, kernel_size=(3, 3), stride=(1, 1), padding=(1, 1), bias=False)\n",
            "      (bn2): BatchNorm2d(512, eps=1e-05, momentum=0.1, affine=True, track_running_stats=True)\n",
            "      (downsample): Sequential(\n",
            "        (0): Conv2d(256, 512, kernel_size=(1, 1), stride=(2, 2), bias=False)\n",
            "        (1): BatchNorm2d(512, eps=1e-05, momentum=0.1, affine=True, track_running_stats=True)\n",
            "      )\n",
            "    )\n",
            "    (1): BasicBlock(\n",
            "      (conv1): Conv2d(512, 512, kernel_size=(3, 3), stride=(1, 1), padding=(1, 1), bias=False)\n",
            "      (bn1): BatchNorm2d(512, eps=1e-05, momentum=0.1, affine=True, track_running_stats=True)\n",
            "      (relu): ReLU(inplace=True)\n",
            "      (conv2): Conv2d(512, 512, kernel_size=(3, 3), stride=(1, 1), padding=(1, 1), bias=False)\n",
            "      (bn2): BatchNorm2d(512, eps=1e-05, momentum=0.1, affine=True, track_running_stats=True)\n",
            "    )\n",
            "  )\n",
            "  (avgpool): AdaptiveAvgPool2d(output_size=(1, 1))\n",
            "  (fc): Linear(in_features=512, out_features=1000, bias=True)\n",
            ")\n"
          ],
          "name": "stdout"
        }
      ]
    },
    {
      "cell_type": "code",
      "metadata": {
        "id": "pDpB0UdYPzCz"
      },
      "source": [
        "resnet18.conv1 = torch.nn.Conv2d(1, 64, kernel_size=7, stride=2, padding=3, bias=False)\n",
        "resnet18.fc = torch.nn.Linear(in_features=512, out_features=3)\n",
        "loss_fn = torch.nn.CrossEntropyLoss()\n",
        "optimizer = torch.optim.Adam(resnet18.parameters(), lr=3e-6,weight_decay=1e-8)"
      ],
      "execution_count": null,
      "outputs": []
    },
    {
      "cell_type": "code",
      "metadata": {
        "colab": {
          "base_uri": "https://localhost:8080/"
        },
        "id": "WaZ-q0g-PZEy",
        "outputId": "2a25cbec-d930-41a2-e732-eed94ef7ff60"
      },
      "source": [
        "device=torch.device(\"cuda\") if torch.cuda.is_available() else torch.device(\"cpu\")\n",
        "print(device)"
      ],
      "execution_count": null,
      "outputs": [
        {
          "output_type": "stream",
          "text": [
            "cuda\n"
          ],
          "name": "stdout"
        }
      ]
    },
    {
      "cell_type": "code",
      "metadata": {
        "colab": {
          "base_uri": "https://localhost:8080/"
        },
        "id": "6XrCj4JnP3HI",
        "outputId": "364fd3fb-9f42-4106-be4a-c2c2a5ac32ec"
      },
      "source": [
        "\n",
        "resnet18.to(device)"
      ],
      "execution_count": null,
      "outputs": [
        {
          "output_type": "execute_result",
          "data": {
            "text/plain": [
              "ResNet(\n",
              "  (conv1): Conv2d(1, 64, kernel_size=(7, 7), stride=(2, 2), padding=(3, 3), bias=False)\n",
              "  (bn1): BatchNorm2d(64, eps=1e-05, momentum=0.1, affine=True, track_running_stats=True)\n",
              "  (relu): ReLU(inplace=True)\n",
              "  (maxpool): MaxPool2d(kernel_size=3, stride=2, padding=1, dilation=1, ceil_mode=False)\n",
              "  (layer1): Sequential(\n",
              "    (0): BasicBlock(\n",
              "      (conv1): Conv2d(64, 64, kernel_size=(3, 3), stride=(1, 1), padding=(1, 1), bias=False)\n",
              "      (bn1): BatchNorm2d(64, eps=1e-05, momentum=0.1, affine=True, track_running_stats=True)\n",
              "      (relu): ReLU(inplace=True)\n",
              "      (conv2): Conv2d(64, 64, kernel_size=(3, 3), stride=(1, 1), padding=(1, 1), bias=False)\n",
              "      (bn2): BatchNorm2d(64, eps=1e-05, momentum=0.1, affine=True, track_running_stats=True)\n",
              "    )\n",
              "    (1): BasicBlock(\n",
              "      (conv1): Conv2d(64, 64, kernel_size=(3, 3), stride=(1, 1), padding=(1, 1), bias=False)\n",
              "      (bn1): BatchNorm2d(64, eps=1e-05, momentum=0.1, affine=True, track_running_stats=True)\n",
              "      (relu): ReLU(inplace=True)\n",
              "      (conv2): Conv2d(64, 64, kernel_size=(3, 3), stride=(1, 1), padding=(1, 1), bias=False)\n",
              "      (bn2): BatchNorm2d(64, eps=1e-05, momentum=0.1, affine=True, track_running_stats=True)\n",
              "    )\n",
              "  )\n",
              "  (layer2): Sequential(\n",
              "    (0): BasicBlock(\n",
              "      (conv1): Conv2d(64, 128, kernel_size=(3, 3), stride=(2, 2), padding=(1, 1), bias=False)\n",
              "      (bn1): BatchNorm2d(128, eps=1e-05, momentum=0.1, affine=True, track_running_stats=True)\n",
              "      (relu): ReLU(inplace=True)\n",
              "      (conv2): Conv2d(128, 128, kernel_size=(3, 3), stride=(1, 1), padding=(1, 1), bias=False)\n",
              "      (bn2): BatchNorm2d(128, eps=1e-05, momentum=0.1, affine=True, track_running_stats=True)\n",
              "      (downsample): Sequential(\n",
              "        (0): Conv2d(64, 128, kernel_size=(1, 1), stride=(2, 2), bias=False)\n",
              "        (1): BatchNorm2d(128, eps=1e-05, momentum=0.1, affine=True, track_running_stats=True)\n",
              "      )\n",
              "    )\n",
              "    (1): BasicBlock(\n",
              "      (conv1): Conv2d(128, 128, kernel_size=(3, 3), stride=(1, 1), padding=(1, 1), bias=False)\n",
              "      (bn1): BatchNorm2d(128, eps=1e-05, momentum=0.1, affine=True, track_running_stats=True)\n",
              "      (relu): ReLU(inplace=True)\n",
              "      (conv2): Conv2d(128, 128, kernel_size=(3, 3), stride=(1, 1), padding=(1, 1), bias=False)\n",
              "      (bn2): BatchNorm2d(128, eps=1e-05, momentum=0.1, affine=True, track_running_stats=True)\n",
              "    )\n",
              "  )\n",
              "  (layer3): Sequential(\n",
              "    (0): BasicBlock(\n",
              "      (conv1): Conv2d(128, 256, kernel_size=(3, 3), stride=(2, 2), padding=(1, 1), bias=False)\n",
              "      (bn1): BatchNorm2d(256, eps=1e-05, momentum=0.1, affine=True, track_running_stats=True)\n",
              "      (relu): ReLU(inplace=True)\n",
              "      (conv2): Conv2d(256, 256, kernel_size=(3, 3), stride=(1, 1), padding=(1, 1), bias=False)\n",
              "      (bn2): BatchNorm2d(256, eps=1e-05, momentum=0.1, affine=True, track_running_stats=True)\n",
              "      (downsample): Sequential(\n",
              "        (0): Conv2d(128, 256, kernel_size=(1, 1), stride=(2, 2), bias=False)\n",
              "        (1): BatchNorm2d(256, eps=1e-05, momentum=0.1, affine=True, track_running_stats=True)\n",
              "      )\n",
              "    )\n",
              "    (1): BasicBlock(\n",
              "      (conv1): Conv2d(256, 256, kernel_size=(3, 3), stride=(1, 1), padding=(1, 1), bias=False)\n",
              "      (bn1): BatchNorm2d(256, eps=1e-05, momentum=0.1, affine=True, track_running_stats=True)\n",
              "      (relu): ReLU(inplace=True)\n",
              "      (conv2): Conv2d(256, 256, kernel_size=(3, 3), stride=(1, 1), padding=(1, 1), bias=False)\n",
              "      (bn2): BatchNorm2d(256, eps=1e-05, momentum=0.1, affine=True, track_running_stats=True)\n",
              "    )\n",
              "  )\n",
              "  (layer4): Sequential(\n",
              "    (0): BasicBlock(\n",
              "      (conv1): Conv2d(256, 512, kernel_size=(3, 3), stride=(2, 2), padding=(1, 1), bias=False)\n",
              "      (bn1): BatchNorm2d(512, eps=1e-05, momentum=0.1, affine=True, track_running_stats=True)\n",
              "      (relu): ReLU(inplace=True)\n",
              "      (conv2): Conv2d(512, 512, kernel_size=(3, 3), stride=(1, 1), padding=(1, 1), bias=False)\n",
              "      (bn2): BatchNorm2d(512, eps=1e-05, momentum=0.1, affine=True, track_running_stats=True)\n",
              "      (downsample): Sequential(\n",
              "        (0): Conv2d(256, 512, kernel_size=(1, 1), stride=(2, 2), bias=False)\n",
              "        (1): BatchNorm2d(512, eps=1e-05, momentum=0.1, affine=True, track_running_stats=True)\n",
              "      )\n",
              "    )\n",
              "    (1): BasicBlock(\n",
              "      (conv1): Conv2d(512, 512, kernel_size=(3, 3), stride=(1, 1), padding=(1, 1), bias=False)\n",
              "      (bn1): BatchNorm2d(512, eps=1e-05, momentum=0.1, affine=True, track_running_stats=True)\n",
              "      (relu): ReLU(inplace=True)\n",
              "      (conv2): Conv2d(512, 512, kernel_size=(3, 3), stride=(1, 1), padding=(1, 1), bias=False)\n",
              "      (bn2): BatchNorm2d(512, eps=1e-05, momentum=0.1, affine=True, track_running_stats=True)\n",
              "    )\n",
              "  )\n",
              "  (avgpool): AdaptiveAvgPool2d(output_size=(1, 1))\n",
              "  (fc): Linear(in_features=512, out_features=3, bias=True)\n",
              ")"
            ]
          },
          "metadata": {
            "tags": []
          },
          "execution_count": 16
        }
      ]
    },
    {
      "cell_type": "markdown",
      "metadata": {
        "id": "rwfZCl_vkdJA"
      },
      "source": [
        "# Preview"
      ]
    },
    {
      "cell_type": "code",
      "metadata": {
        "id": "IEoZGfHmP526"
      },
      "source": [
        "def imshow(img):\n",
        "    npimg = img.numpy()\n",
        "    plt.imshow(np.transpose(npimg, (1, 2, 0)))\n",
        "    plt.show()"
      ],
      "execution_count": null,
      "outputs": []
    },
    {
      "cell_type": "code",
      "metadata": {
        "colab": {
          "base_uri": "https://localhost:8080/",
          "height": 358
        },
        "id": "K6MTR-viP8Nf",
        "outputId": "c1fa1be5-3efb-497e-ba38-1147a0e8ac80"
      },
      "source": [
        "\n",
        "dataiter = iter(train_dl)\n",
        "images, labels = dataiter.next()\n",
        "\n",
        "\n",
        "imshow(torchvision.utils.make_grid(images,nrow=5))\n",
        "print (\"labels: \",labels)"
      ],
      "execution_count": null,
      "outputs": [
        {
          "output_type": "stream",
          "text": [
            "/usr/local/lib/python3.7/dist-packages/torch/utils/data/dataloader.py:477: UserWarning: This DataLoader will create 4 worker processes in total. Our suggested max number of worker in current system is 2, which is smaller than what this DataLoader is going to create. Please be aware that excessive worker creation might get DataLoader running slow or even freeze, lower the worker number to avoid potential slowness/freeze if necessary.\n",
            "  cpuset_checked))\n",
            "Clipping input data to the valid range for imshow with RGB data ([0..1] for floats or [0..255] for integers).\n"
          ],
          "name": "stderr"
        },
        {
          "output_type": "display_data",
          "data": {
            "image/png": "[encoded data removed]",
            "text/plain": [
              "<Figure size 432x288 with 1 Axes>"
            ]
          },
          "metadata": {
            "tags": [],
            "needs_background": "light"
          }
        },
        {
          "output_type": "stream",
          "text": [
            "labels:  tensor([1, 1, 2, 0, 2, 0, 2, 0, 1, 0, 1, 0, 0, 2, 2, 0, 2, 2, 2, 1])\n"
          ],
          "name": "stdout"
        }
      ]
    },
    {
      "cell_type": "markdown",
      "metadata": {
        "id": "d3wjr0Foky-J"
      },
      "source": [
        "# Load Saved Model"
      ]
    },
    {
      "cell_type": "code",
      "metadata": {
        "id": "gGnnxC9kq_oF"
      },
      "source": [
        "MODEL_PATH=\"/content/drive/MyDrive/final_year_project/resnet18_20_4.pth\""
      ],
      "execution_count": null,
      "outputs": []
    },
    {
      "cell_type": "code",
      "metadata": {
        "id": "Hf4azcGe3bEA"
      },
      "source": [
        "current_epochs=0"
      ],
      "execution_count": null,
      "outputs": []
    },
    {
      "cell_type": "markdown",
      "metadata": {
        "id": "vp8MrxO2JL0A"
      },
      "source": [
        "Run the cell below if you use saved model"
      ]
    },
    {
      "cell_type": "code",
      "metadata": {
        "id": "vF-FEPUJP-u7"
      },
      "source": [
        "checkpoint = torch.load(MODEL_PATH)\n",
        "resnet18.load_state_dict(checkpoint['model_state_dict'])\n",
        "current_epochs=checkpoint['epoch']\n",
        "loss_fn=checkpoint['loss']\n",
        "optimizer.load_state_dict(checkpoint['optimizer_state_dict'])"
      ],
      "execution_count": null,
      "outputs": []
    },
    {
      "cell_type": "code",
      "metadata": {
        "colab": {
          "base_uri": "https://localhost:8080/"
        },
        "id": "aZGNGU_6AGov",
        "outputId": "25a62351-446d-4381-8155-e9614281a1ca"
      },
      "source": [
        "print(current_epochs)"
      ],
      "execution_count": null,
      "outputs": [
        {
          "output_type": "stream",
          "text": [
            "7\n"
          ],
          "name": "stdout"
        }
      ]
    },
    {
      "cell_type": "markdown",
      "metadata": {
        "id": "PiwqjhjylC_G"
      },
      "source": [
        "# Training & Testing"
      ]
    },
    {
      "cell_type": "code",
      "metadata": {
        "id": "ogxzE8pa4Qtt"
      },
      "source": [
        "def performance(model, dataloader, optimizer, criterion, val_data):\n",
        "    print('Validating')\n",
        "    model.eval()\n",
        "    val_running_loss = 0.0\n",
        "    val_running_correct = 0\n",
        "    with torch.no_grad():\n",
        "        for i, data in tqdm(enumerate(dataloader), total=int(len(val_data)/dataloader.batch_size)):\n",
        "            data, target = data[0].to(device), data[1].to(device)\n",
        "            outputs = model(data)\n",
        "            loss = criterion(outputs, target)\n",
        "            \n",
        "            val_running_loss += loss.item()\n",
        "            _, preds = torch.max(outputs.data, 1)\n",
        "            val_running_correct += (preds == target).sum().item()\n",
        "            # print(\"correct is \",val_running_correct)\n",
        "        val_loss = val_running_loss/len(dataloader)\n",
        "        val_accuracy = 100. * val_running_correct/len(dataloader.dataset)        \n",
        "        return val_loss, val_accuracy"
      ],
      "execution_count": null,
      "outputs": []
    },
    {
      "cell_type": "code",
      "metadata": {
        "id": "TqkVeRuwW2L9"
      },
      "source": [
        "train_loss_values=[]\n",
        "train_acc_values=[]\n",
        "val_loss_values=[]\n",
        "val_acc_values=[]"
      ],
      "execution_count": null,
      "outputs": []
    },
    {
      "cell_type": "markdown",
      "metadata": {
        "id": "9obma2dzJq8T"
      },
      "source": [
        "Run the cell below ,if you are using saved model"
      ]
    },
    {
      "cell_type": "code",
      "metadata": {
        "id": "bTjJbn5zLC35"
      },
      "source": [
        "train_loss_values=checkpoint['train_loss_values']\n",
        "train_acc_values=checkpoint['train_acc_values']\n",
        "val_loss_values=checkpoint['val_loss_values']\n",
        "val_acc_values=checkpoint['val_acc_values']"
      ],
      "execution_count": null,
      "outputs": []
    },
    {
      "cell_type": "code",
      "metadata": {
        "id": "qGDW7S_5PciG"
      },
      "source": [
        "\n",
        "EPOCHS=20"
      ],
      "execution_count": null,
      "outputs": []
    },
    {
      "cell_type": "code",
      "metadata": {
        "id": "LUaHGn44QA4s"
      },
      "source": [
        "\n",
        "for epoch in range(EPOCHS):\n",
        "  running_loss=0.0\n",
        "  correct=0\n",
        "  total=0\n",
        "  print(\"\\nEpoch \",current_epochs+epoch+1 )\n",
        "  loop=tqdm(enumerate(train_dl,0),total=len(train_dl))\n",
        "  for i,data in loop:\n",
        "    resnet18.train()\n",
        "    inputs,labels=data\n",
        "    inputs=inputs.to(device)\n",
        "    labels=labels.to(device)\n",
        "    optimizer.zero_grad()\n",
        "    \n",
        "    \n",
        "    outputs=resnet18(inputs)\n",
        "    loss=loss_fn(outputs,labels)\n",
        "\n",
        "    loss.backward()\n",
        "    optimizer.step()\n",
        "    running_loss+=loss.item()\n",
        "    total+=labels.size(0)\n",
        "    _,predicted=torch.max(outputs,1)\n",
        "    # print(predicted, labels)\n",
        "    \n",
        "    loop.set_postfix(loss=loss.item())\n",
        "    correct += (predicted == labels).sum().item()\n",
        "    # print(\"correct is \",correct)\n",
        "    # if i % 2000 == 1999:    # print every 2000 mini-batches\n",
        "    #         print('[%d, %5d] loss: %.3f' %\n",
        "    #               (epoch + 1, i + 1, running_loss / 2000))\n",
        "    #         running_loss = 0.0\n",
        "    \n",
        "  accuracy= 100 * correct / total\n",
        "  train_acc_values.append(accuracy)\n",
        "  print(\"\\n\\tTraining Accuracy : \", accuracy)\n",
        "  train_loss_values.append(running_loss/len(train_dl))\n",
        "  print(\"\\tTraining loss : \", running_loss/len(train_dl))\n",
        "\n",
        "  val_loss,val_acc=performance(resnet18,val_dl,optimizer,loss_fn,val_ds)\n",
        "  \n",
        "  print(\"\\tValidation accuracy  : \", val_acc)\n",
        "  print(\"\\tValidation loss : \", val_loss)\n",
        "\n",
        "  val_loss_values.append(val_loss)\n",
        "  val_acc_values.append(val_acc)\n",
        "  print(\"Saving model...\")\n",
        "  torch.save({\n",
        "            'epoch': current_epochs+epoch+1,\n",
        "            'model_state_dict': resnet18.state_dict(),\n",
        "            'optimizer_state_dict': optimizer.state_dict(),\n",
        "            'loss': loss_fn,\n",
        "            'train_acc_values':train_acc_values,\n",
        "            'val_acc_values':val_acc_values,\n",
        "            'train_loss_values':train_loss_values,\n",
        "            'val_loss_values':val_loss_values\n",
        "            }, MODEL_PATH)\n",
        "print('Finished Training')\n"
      ],
      "execution_count": null,
      "outputs": []
    },
    {
      "cell_type": "code",
      "metadata": {
        "colab": {
          "base_uri": "https://localhost:8080/"
        },
        "id": "rnKLH3rB_0zv",
        "outputId": "1f1979bc-bf45-4c18-8aca-fb08fb2b29cb"
      },
      "source": [
        "current_epochs=current_epochs+epoch+1\n",
        "print(current_epochs)"
      ],
      "execution_count": null,
      "outputs": [
        {
          "output_type": "stream",
          "text": [
            "8\n"
          ],
          "name": "stdout"
        }
      ]
    },
    {
      "cell_type": "markdown",
      "metadata": {
        "id": "vgHS1wt9lRDK"
      },
      "source": [
        "## Performance"
      ]
    },
    {
      "cell_type": "code",
      "metadata": {
        "id": "DVzzjJ7k-abI"
      },
      "source": [
        "test_loss,test_acc=performance(resnet18,test_dl,optimizer,loss_fn,test_ds)\n",
        "print(\"\\nFinal accuracy : \",test_acc)\n",
        "print(\"Final loss : \",test_loss)"
      ],
      "execution_count": null,
      "outputs": []
    },
    {
      "cell_type": "code",
      "metadata": {
        "id": "TWqXjRyE5QSm"
      },
      "source": [
        "plt.plot(train_loss_values,label=\"Train\")\n",
        "plt.plot(val_loss_values, label=\"Val\")\n",
        "plt.xticks([i for i in range(current_epochs)],labels=[i+1 for i in range(current_epochs)])\n",
        "plt.xlabel(\"Epochs\")\n",
        "plt.ylabel(\"Loss\")\n",
        "plt.legend(loc='best')"
      ],
      "execution_count": null,
      "outputs": []
    },
    {
      "cell_type": "code",
      "metadata": {
        "id": "xioy6ejo5shq"
      },
      "source": [
        "plt.plot(train_acc_values,label=\"Train\")\n",
        "plt.plot(val_acc_values,label=\"Val\")\n",
        "plt.xticks([i for i in range(current_epochs)],labels=[i+1 for i in range(current_epochs)])\n",
        "plt.xlabel(\"Epochs\")\n",
        "plt.ylabel(\"Accuracy\")\n",
        "plt.legend(loc='best')"
      ],
      "execution_count": null,
      "outputs": []
    },
    {
      "cell_type": "markdown",
      "metadata": {
        "id": "sIJm4La2mAyR"
      },
      "source": [
        "## Testing"
      ]
    },
    {
      "cell_type": "code",
      "metadata": {
        "id": "o0CUFLykQGdm"
      },
      "source": [
        "dataiter = iter(test_dl)\n",
        "for i in range(120):\n",
        "  dataiter.next()\n",
        "images, labels = dataiter.next()\n",
        "print(labels)\n",
        "print (images.shape)\n",
        "imshow(torchvision.utils.make_grid(images,nrow=5))\n"
      ],
      "execution_count": null,
      "outputs": []
    },
    {
      "cell_type": "code",
      "metadata": {
        "id": "0bIPSZ7QwPXQ"
      },
      "source": [
        "torch.cuda.empty_cache()"
      ],
      "execution_count": null,
      "outputs": []
    },
    {
      "cell_type": "code",
      "metadata": {
        "colab": {
          "base_uri": "https://localhost:8080/"
        },
        "id": "qQWOpiBHQJNd",
        "outputId": "8bc31fce-902b-48bc-c67c-af0809630ea1"
      },
      "source": [
        "resnet18.eval()\n",
        "print(images.shape)\n",
        "outputs=resnet18(images.to(device))\n",
        "_, predicted = torch.max(outputs, 1)\n",
        "\n",
        "print(predicted)"
      ],
      "execution_count": null,
      "outputs": [
        {
          "output_type": "stream",
          "text": [
            "torch.Size([10, 1, 1024, 1024])\n",
            "tensor([0, 1, 2, 0, 0, 0, 0, 0, 0, 2], device='cuda:0')\n"
          ],
          "name": "stdout"
        }
      ]
    },
    {
      "cell_type": "code",
      "metadata": {
        "id": "OT-9rA_YK8y_"
      },
      "source": [
        "def func(img):\n",
        "  return np.average(img)\n",
        "\n",
        "def get_patches_as_images(patches):\n",
        "  patches=sorted(patches,key=func,reverse=True)[:10]\n",
        "  for i in range(len(patches)):\n",
        "    patches[i]=Image.fromarray(patches[i])\n",
        "    patches[i]=patches[i].resize((1024,1024))\n",
        "    patches[i]=test_transform(patches[i])\n",
        "    patches[i]=patches[i].numpy()\n",
        "    # patches[i]=np.array(patches[i])\n",
        "    print(patches[i])\n",
        "  \n",
        "  results=torch.tensor(patches,dtype=torch.float)\n",
        "  print(results.shape)\n",
        "  \n",
        "  results=results.view(10,1,1024,1024)\n",
        "  \n",
        "  print(results.shape)\n",
        "  return results\n",
        "def get_label(id):\n",
        "  print(classes,id)\n",
        "  return classes[id]"
      ],
      "execution_count": null,
      "outputs": []
    },
    {
      "cell_type": "code",
      "metadata": {
        "colab": {
          "base_uri": "https://localhost:8080/",
          "height": 1000
        },
        "id": "W3gVRDY0IU_l",
        "outputId": "c428dc29-7ca4-43f4-86dc-d7c02ceab711"
      },
      "source": [
        "\n",
        "resnet18.eval()\n",
        "\n",
        "img_test=cv2.imread(\"/content/drive/MyDrive/final_year_project/outputs/segmentation/covid/COVID-1239_predict.png\")\n",
        "print(img_test)\n",
        "img_test=cv2.resize(img_test,(1024,1024))\n",
        "print(img_test.shape)\n",
        "\n",
        "patches=extract_patches(img_test,(224,224))\n",
        "print(patches[0])\n",
        "# plt.imshow(patches[1],cmap='gray')\n",
        "patches=get_patches_as_images(patches)\n",
        "print(patches.shape)\n",
        "print(patches[0].shape)\n",
        "plt.imshow(np.squeeze(patches[1].numpy()),cmap='gray')\n",
        "with torch.no_grad():\n",
        "  outputs=resnet18(patches.to(device))\n",
        "  print(outputs)\n",
        "  _,predicted = torch.max(outputs,1)\n",
        "  print(predicted)\n",
        "  out=torch.mode(predicted,0)[0]\n",
        "  print(out)\n",
        "  plt.imshow(img_test,cmap='gray')\n",
        "  plt.xlabel(get_label(out))\n",
        "  print(get_label(out))"
      ],
      "execution_count": null,
      "outputs": [
        {
          "output_type": "stream",
          "text": [
            "[[[229 229 229]\n",
            "  [  0   0   0]\n",
            "  [  0   0   0]\n",
            "  ...\n",
            "  [  0   0   0]\n",
            "  [  0   0   0]\n",
            "  [  0   0   0]]\n",
            "\n",
            " [[180 180 180]\n",
            "  [  0   0   0]\n",
            "  [  0   0   0]\n",
            "  ...\n",
            "  [  0   0   0]\n",
            "  [  0   0   0]\n",
            "  [  0   0   0]]\n",
            "\n",
            " [[  0   0   0]\n",
            "  [  0   0   0]\n",
            "  [  0   0   0]\n",
            "  ...\n",
            "  [  0   0   0]\n",
            "  [  0   0   0]\n",
            "  [  0   0   0]]\n",
            "\n",
            " ...\n",
            "\n",
            " [[  0   0   0]\n",
            "  [  0   0   0]\n",
            "  [  0   0   0]\n",
            "  ...\n",
            "  [  0   0   0]\n",
            "  [  0   0   0]\n",
            "  [  0   0   0]]\n",
            "\n",
            " [[  0   0   0]\n",
            "  [  0   0   0]\n",
            "  [  0   0   0]\n",
            "  ...\n",
            "  [  0   0   0]\n",
            "  [  0   0   0]\n",
            "  [  0   0   0]]\n",
            "\n",
            " [[ 77  77  77]\n",
            "  [  0   0   0]\n",
            "  [  0   0   0]\n",
            "  ...\n",
            "  [  0   0   0]\n",
            "  [  0   0   0]\n",
            "  [  0   0   0]]]\n",
            "(1024, 1024, 3)\n",
            "[[[229 229 229]\n",
            "  [172 172 172]\n",
            "  [ 57  57  57]\n",
            "  ...\n",
            "  [  0   0   0]\n",
            "  [  0   0   0]\n",
            "  [  0   0   0]]\n",
            "\n",
            " [[217 217 217]\n",
            "  [163 163 163]\n",
            "  [ 54  54  54]\n",
            "  ...\n",
            "  [  0   0   0]\n",
            "  [  0   0   0]\n",
            "  [  0   0   0]]\n",
            "\n",
            " [[192 192 192]\n",
            "  [144 144 144]\n",
            "  [ 48  48  48]\n",
            "  ...\n",
            "  [  0   0   0]\n",
            "  [  0   0   0]\n",
            "  [  0   0   0]]\n",
            "\n",
            " ...\n",
            "\n",
            " [[108 108 108]\n",
            "  [ 81  81  81]\n",
            "  [ 27  27  27]\n",
            "  ...\n",
            "  [122 122 122]\n",
            "  [122 122 122]\n",
            "  [122 122 122]]\n",
            "\n",
            " [[109 109 109]\n",
            "  [ 82  82  82]\n",
            "  [ 27  27  27]\n",
            "  ...\n",
            "  [121 121 121]\n",
            "  [121 121 121]\n",
            "  [121 121 121]]\n",
            "\n",
            " [[109 109 109]\n",
            "  [ 89  89  89]\n",
            "  [ 48  48  48]\n",
            "  ...\n",
            "  [121 121 121]\n",
            "  [121 121 121]\n",
            "  [121 121 121]]]\n",
            "[[[0.         0.         0.         ... 0.67444235 0.6705212  0.6705212 ]\n",
            "  [0.         0.         0.         ... 0.67444235 0.6705212  0.6705212 ]\n",
            "  [0.         0.         0.         ... 0.67836356 0.67444235 0.67444235]\n",
            "  ...\n",
            "  [0.4391718  0.4391718  0.4391718  ... 0.70973295 0.70973295 0.70973295]\n",
            "  [0.4391718  0.4391718  0.4391718  ... 0.70973295 0.70973295 0.70973295]\n",
            "  [0.4391718  0.4391718  0.4391718  ... 0.70973295 0.70973295 0.70973295]]]\n",
            "[[[0.         0.         0.         ... 0.         0.         0.        ]\n",
            "  [0.         0.         0.         ... 0.         0.         0.        ]\n",
            "  [0.         0.         0.         ... 0.         0.         0.        ]\n",
            "  ...\n",
            "  [0.         0.         0.         ... 0.24311295 0.24311295 0.24311295]\n",
            "  [0.         0.         0.         ... 0.24311295 0.24311295 0.24311295]\n",
            "  [0.         0.         0.         ... 0.24311295 0.24311295 0.24311295]]]\n",
            "[[[0.8469742  0.8469742  0.8469742  ... 0.21566471 0.21566471 0.21566471]\n",
            "  [0.8469742  0.8469742  0.8469742  ... 0.21566471 0.21566471 0.21566471]\n",
            "  [0.8469742  0.8469742  0.8469742  ... 0.21566471 0.21566471 0.21566471]\n",
            "  ...\n",
            "  [0.5215165  0.5215165  0.5215165  ... 0.6940482  0.6940482  0.6940482 ]\n",
            "  [0.5215165  0.5215165  0.5215165  ... 0.6940482  0.6940482  0.6940482 ]\n",
            "  [0.5215165  0.5215165  0.5215165  ... 0.6940482  0.6940482  0.6940482 ]]]\n",
            "[[[0.         0.         0.         ... 0.54112244 0.54112244 0.54112244]\n",
            "  [0.         0.         0.         ... 0.54112244 0.54112244 0.54112244]\n",
            "  [0.         0.         0.         ... 0.54112244 0.54112244 0.54112244]\n",
            "  ...\n",
            "  [0.5332801  0.5332801  0.5332801  ... 0.49406824 0.49406824 0.49406824]\n",
            "  [0.5332801  0.5332801  0.5332801  ... 0.49406824 0.49406824 0.49406824]\n",
            "  [0.5332801  0.5332801  0.5332801  ... 0.49406824 0.49406824 0.49406824]]]\n",
            "[[[0.576413   0.576413   0.5724918  ... 0.72149646 0.72149646 0.72149646]\n",
            "  [0.58425534 0.58425534 0.5803342  ... 0.72149646 0.72149646 0.72149646]\n",
            "  [0.59601885 0.59601885 0.5920977  ... 0.72149646 0.72149646 0.72149646]\n",
            "  ...\n",
            "  [0.7018906  0.7018906  0.7018906  ... 0.27840355 0.27840355 0.27840355]\n",
            "  [0.7018906  0.7018906  0.7018906  ... 0.27840355 0.27840355 0.27840355]\n",
            "  [0.7018906  0.7018906  0.7018906  ... 0.27840355 0.27840355 0.27840355]]]\n",
            "[[[0.35682705 0.35682705 0.35682705 ... 0.         0.         0.        ]\n",
            "  [0.35682705 0.35682705 0.35682705 ... 0.         0.         0.        ]\n",
            "  [0.35682705 0.35682705 0.35682705 ... 0.         0.         0.        ]\n",
            "  ...\n",
            "  [0.         0.         0.         ... 0.         0.         0.        ]\n",
            "  [0.         0.         0.         ... 0.         0.         0.        ]\n",
            "  [0.         0.         0.         ... 0.         0.         0.        ]]]\n",
            "[[[0.76855063 0.76855063 0.76855063 ... 0.         0.         0.        ]\n",
            "  [0.76855063 0.76855063 0.76855063 ... 0.         0.         0.        ]\n",
            "  [0.76855063 0.76855063 0.76855063 ... 0.         0.         0.        ]\n",
            "  ...\n",
            "  [0.2195859  0.2195859  0.2195859  ... 0.         0.         0.        ]\n",
            "  [0.2195859  0.2195859  0.2195859  ... 0.         0.         0.        ]\n",
            "  [0.2195859  0.2195859  0.2195859  ... 0.         0.         0.        ]]]\n",
            "[[[0.42740828 0.42740828 0.42740828 ... 0.7136541  0.7136541  0.7136541 ]\n",
            "  [0.42740828 0.42740828 0.42740828 ... 0.7136541  0.7136541  0.7136541 ]\n",
            "  [0.42740828 0.42740828 0.42740828 ... 0.7136541  0.7136541  0.7136541 ]\n",
            "  ...\n",
            "  [0.4038812  0.4038812  0.4038812  ... 0.         0.         0.        ]\n",
            "  [0.4038812  0.4038812  0.4038812  ... 0.         0.         0.        ]\n",
            "  [0.4038812  0.4038812  0.4038812  ... 0.         0.         0.        ]]]\n",
            "[[[0.4705412  0.4705412  0.4705412  ... 0.6587577  0.6587577  0.6587577 ]\n",
            "  [0.4705412  0.4705412  0.4705412  ... 0.6587577  0.6587577  0.6587577 ]\n",
            "  [0.4705412  0.4705412  0.4705412  ... 0.6587577  0.6587577  0.6587577 ]\n",
            "  ...\n",
            "  [0.35290587 0.35290587 0.35290587 ... 0.         0.         0.        ]\n",
            "  [0.35290587 0.35290587 0.35290587 ... 0.         0.         0.        ]\n",
            "  [0.35290587 0.35290587 0.35290587 ... 0.         0.         0.        ]]]\n",
            "[[[0.         0.         0.         ... 0.7724718  0.7724718  0.7724718 ]\n",
            "  [0.         0.         0.         ... 0.7724718  0.7724718  0.7724718 ]\n",
            "  [0.         0.         0.         ... 0.7724718  0.7724718  0.7724718 ]\n",
            "  ...\n",
            "  [0.843053   0.843053   0.843053   ... 0.21566471 0.21566471 0.21566471]\n",
            "  [0.843053   0.843053   0.843053   ... 0.21566471 0.21566471 0.21566471]\n",
            "  [0.843053   0.843053   0.843053   ... 0.21566471 0.21566471 0.21566471]]]\n",
            "torch.Size([10, 1, 1024, 1024])\n",
            "torch.Size([10, 1, 1024, 1024])\n",
            "torch.Size([10, 1, 1024, 1024])\n",
            "torch.Size([1, 1024, 1024])\n",
            "tensor([[  8.4176,   5.9505, -16.0797],\n",
            "        [  8.9691,   4.8899, -15.6601],\n",
            "        [  7.5650,   4.5377, -13.5056],\n",
            "        [  6.1592,   6.4162, -13.8776],\n",
            "        [  5.3283,   2.5597,  -9.0365],\n",
            "        [  5.1815,   2.0381,  -8.0387],\n",
            "        [  5.2186,   3.7786, -10.1767],\n",
            "        [  6.3794,   4.6354, -12.3228],\n",
            "        [  7.4836,   6.9093, -15.9635],\n",
            "        [  5.7215,   3.9276, -10.8595]], device='cuda:0')\n",
            "tensor([0, 0, 0, 1, 0, 0, 0, 0, 0, 0], device='cuda:0')\n",
            "tensor(0, device='cuda:0')\n",
            "['covid', 'normal', 'pneumonia'] tensor(0, device='cuda:0')\n",
            "['covid', 'normal', 'pneumonia'] tensor(0, device='cuda:0')\n",
            "covid\n"
          ],
          "name": "stdout"
        },
        {
          "output_type": "display_data",
          "data": {
            "image/png": "[encoded data removed]",
            "text/plain": [
              "<Figure size 432x288 with 1 Axes>"
            ]
          },
          "metadata": {
            "tags": []
          }
        }
      ]
    },
    {
      "cell_type": "code",
      "metadata": {
        "colab": {
          "base_uri": "https://localhost:8080/",
          "height": 473
        },
        "id": "CHdW2k-QCHyC",
        "outputId": "8171985a-0643-45d6-d88d-b5a495dd5cd1"
      },
      "source": [
        "print(patches[0].shape)\n",
        "imshow(torchvision.utils.make_grid(patches,nrow=5))\n",
        "plt.imshow(np.squeeze(patches[1]).numpy(),cmap='gray')"
      ],
      "execution_count": null,
      "outputs": [
        {
          "output_type": "stream",
          "text": [
            "torch.Size([1, 1024, 1024])\n"
          ],
          "name": "stdout"
        },
        {
          "output_type": "display_data",
          "data": {
            "image/png": "[encoded data removed]",
            "text/plain": [
              "<Figure size 432x288 with 1 Axes>"
            ]
          },
          "metadata": {
            "tags": []
          }
        },
        {
          "output_type": "execute_result",
          "data": {
            "text/plain": [
              "<matplotlib.image.AxesImage at 0x7f7ecf0dce50>"
            ]
          },
          "metadata": {
            "tags": []
          },
          "execution_count": 37
        },
        {
          "output_type": "display_data",
          "data": {
            "image/png": "[encoded data removed]",
            "text/plain": [
              "<Figure size 432x288 with 1 Axes>"
            ]
          },
          "metadata": {
            "tags": []
          }
        }
      ]
    },
    {
      "cell_type": "code",
      "metadata": {
        "id": "wML2A1yZLzdy"
      },
      "source": [
        "ROOT_DIR=\"/content/drive/MyDrive/chest-xray-dataset\""
      ],
      "execution_count": null,
      "outputs": []
    },
    {
      "cell_type": "code",
      "metadata": {
        "id": "E1-AXp0XMQGM"
      },
      "source": [
        "PATCH_DIR=\"/content/drive/MyDrive/final_year_project/outputs/patches7\""
      ],
      "execution_count": null,
      "outputs": []
    },
    {
      "cell_type": "code",
      "metadata": {
        "colab": {
          "base_uri": "https://localhost:8080/"
        },
        "id": "GQFcfgHbMQlg",
        "outputId": "89009c2c-0c1b-49c2-c14a-54e09c325205"
      },
      "source": [
        "for patch in tqdm(os.listdir(os.path.join(PATCH_DIR,\"val\",\"pneumonia\"))):\n",
        "  if  \"Normal\" in patch or \"COVID\" in patch:\n",
        "    print(os.path.join(PATCH_DIR,\"val\",\"pneumonia\",patch))"
      ],
      "execution_count": null,
      "outputs": [
        {
          "output_type": "stream",
          "text": [
            "100%|██████████| 860/860 [00:00<00:00, 900200.01it/s]\n"
          ],
          "name": "stderr"
        }
      ]
    },
    {
      "cell_type": "code",
      "metadata": {
        "id": "x8o75k17MuWD"
      },
      "source": [
        "images=glob(os.path.join(\"/content/drive/MyDrive/final_year_project/outputs/patches7/val/pneumonia\",\"*\"))"
      ],
      "execution_count": null,
      "outputs": []
    },
    {
      "cell_type": "code",
      "metadata": {
        "colab": {
          "base_uri": "https://localhost:8080/"
        },
        "id": "dnth6K2LPVIi",
        "outputId": "b5671545-25a3-4579-826b-4ef66d19e921"
      },
      "source": [
        "for i in images :\n",
        "  print(i)"
      ],
      "execution_count": null,
      "outputs": [
        {
          "output_type": "stream",
          "text": [
            "/content/drive/MyDrive/final_year_project/outputs/patches7/val/pneumonia/Viral Pneumonia-172_patch15.png\n",
            "/content/drive/MyDrive/final_year_project/outputs/patches7/val/pneumonia/Viral Pneumonia-168_patch11.png\n",
            "/content/drive/MyDrive/final_year_project/outputs/patches7/val/pneumonia/Viral Pneumonia-176_patch2.png\n",
            "/content/drive/MyDrive/final_year_project/outputs/patches7/val/pneumonia/Viral Pneumonia-189_patch4.png\n",
            "/content/drive/MyDrive/final_year_project/outputs/patches7/val/pneumonia/Viral Pneumonia-179_patch13.png\n",
            "/content/drive/MyDrive/final_year_project/outputs/patches7/val/pneumonia/Viral Pneumonia-161_patch3.png\n",
            "/content/drive/MyDrive/final_year_project/outputs/patches7/val/pneumonia/Viral Pneumonia-167_patch12.png\n",
            "/content/drive/MyDrive/final_year_project/outputs/patches7/val/pneumonia/Viral Pneumonia-139_patch19.png\n",
            "/content/drive/MyDrive/final_year_project/outputs/patches7/val/pneumonia/Viral Pneumonia-177_patch18.png\n",
            "/content/drive/MyDrive/final_year_project/outputs/patches7/val/pneumonia/Viral Pneumonia-171_patch17.png\n",
            "/content/drive/MyDrive/final_year_project/outputs/patches7/val/pneumonia/Viral Pneumonia-153_patch19.png\n",
            "/content/drive/MyDrive/final_year_project/outputs/patches7/val/pneumonia/Viral Pneumonia-14_patch19.png\n",
            "/content/drive/MyDrive/final_year_project/outputs/patches7/val/pneumonia/Viral Pneumonia-167_patch18.png\n",
            "/content/drive/MyDrive/final_year_project/outputs/patches7/val/pneumonia/Viral Pneumonia-153_patch16.png\n",
            "/content/drive/MyDrive/final_year_project/outputs/patches7/val/pneumonia/Viral Pneumonia-149_patch5.png\n",
            "/content/drive/MyDrive/final_year_project/outputs/patches7/val/pneumonia/Viral Pneumonia-14_patch3.png\n",
            "/content/drive/MyDrive/final_year_project/outputs/patches7/val/pneumonia/Viral Pneumonia-148_patch19.png\n",
            "/content/drive/MyDrive/final_year_project/outputs/patches7/val/pneumonia/Viral Pneumonia-140_patch16.png\n",
            "/content/drive/MyDrive/final_year_project/outputs/patches7/val/pneumonia/Viral Pneumonia-160_patch0.png\n",
            "/content/drive/MyDrive/final_year_project/outputs/patches7/val/pneumonia/Viral Pneumonia-146_patch19.png\n",
            "/content/drive/MyDrive/final_year_project/outputs/patches7/val/pneumonia/Viral Pneumonia-177_patch5.png\n",
            "/content/drive/MyDrive/final_year_project/outputs/patches7/val/pneumonia/Viral Pneumonia-176_patch3.png\n",
            "/content/drive/MyDrive/final_year_project/outputs/patches7/val/pneumonia/Viral Pneumonia-143_patch9.png\n",
            "/content/drive/MyDrive/final_year_project/outputs/patches7/val/pneumonia/Viral Pneumonia-183_patch19.png\n",
            "/content/drive/MyDrive/final_year_project/outputs/patches7/val/pneumonia/Viral Pneumonia-176_patch5.png\n",
            "/content/drive/MyDrive/final_year_project/outputs/patches7/val/pneumonia/Viral Pneumonia-146_patch6.png\n",
            "/content/drive/MyDrive/final_year_project/outputs/patches7/val/pneumonia/Viral Pneumonia-145_patch7.png\n",
            "/content/drive/MyDrive/final_year_project/outputs/patches7/val/pneumonia/Viral Pneumonia-168_patch17.png\n",
            "/content/drive/MyDrive/final_year_project/outputs/patches7/val/pneumonia/Viral Pneumonia-189_patch8.png\n",
            "/content/drive/MyDrive/final_year_project/outputs/patches7/val/pneumonia/Viral Pneumonia-143_patch15.png\n",
            "/content/drive/MyDrive/final_year_project/outputs/patches7/val/pneumonia/Viral Pneumonia-179_patch19.png\n",
            "/content/drive/MyDrive/final_year_project/outputs/patches7/val/pneumonia/Viral Pneumonia-172_patch11.png\n",
            "/content/drive/MyDrive/final_year_project/outputs/patches7/val/pneumonia/Viral Pneumonia-174_patch17.png\n",
            "/content/drive/MyDrive/final_year_project/outputs/patches7/val/pneumonia/Viral Pneumonia-186_patch8.png\n",
            "/content/drive/MyDrive/final_year_project/outputs/patches7/val/pneumonia/Viral Pneumonia-19_patch7.png\n",
            "/content/drive/MyDrive/final_year_project/outputs/patches7/val/pneumonia/Viral Pneumonia-156_patch15.png\n",
            "/content/drive/MyDrive/final_year_project/outputs/patches7/val/pneumonia/Viral Pneumonia-174_patch7.png\n",
            "/content/drive/MyDrive/final_year_project/outputs/patches7/val/pneumonia/Viral Pneumonia-153_patch14.png\n",
            "/content/drive/MyDrive/final_year_project/outputs/patches7/val/pneumonia/Viral Pneumonia-15_patch17.png\n",
            "/content/drive/MyDrive/final_year_project/outputs/patches7/val/pneumonia/Viral Pneumonia-161_patch7.png\n",
            "/content/drive/MyDrive/final_year_project/outputs/patches7/val/pneumonia/Viral Pneumonia-182_patch2.png\n",
            "/content/drive/MyDrive/final_year_project/outputs/patches7/val/pneumonia/Viral Pneumonia-150_patch16.png\n",
            "/content/drive/MyDrive/final_year_project/outputs/patches7/val/pneumonia/Viral Pneumonia-14_patch7.png\n",
            "/content/drive/MyDrive/final_year_project/outputs/patches7/val/pneumonia/Viral Pneumonia-166_patch9.png\n",
            "/content/drive/MyDrive/final_year_project/outputs/patches7/val/pneumonia/Viral Pneumonia-148_patch4.png\n",
            "/content/drive/MyDrive/final_year_project/outputs/patches7/val/pneumonia/Viral Pneumonia-163_patch2.png\n",
            "/content/drive/MyDrive/final_year_project/outputs/patches7/val/pneumonia/Viral Pneumonia-166_patch6.png\n",
            "/content/drive/MyDrive/final_year_project/outputs/patches7/val/pneumonia/Viral Pneumonia-146_patch4.png\n",
            "/content/drive/MyDrive/final_year_project/outputs/patches7/val/pneumonia/Viral Pneumonia-169_patch9.png\n",
            "/content/drive/MyDrive/final_year_project/outputs/patches7/val/pneumonia/Viral Pneumonia-19_patch3.png\n",
            "/content/drive/MyDrive/final_year_project/outputs/patches7/val/pneumonia/Viral Pneumonia-176_patch4.png\n",
            "/content/drive/MyDrive/final_year_project/outputs/patches7/val/pneumonia/Viral Pneumonia-171_patch14.png\n",
            "/content/drive/MyDrive/final_year_project/outputs/patches7/val/pneumonia/Viral Pneumonia-179_patch3.png\n",
            "/content/drive/MyDrive/final_year_project/outputs/patches7/val/pneumonia/Viral Pneumonia-156_patch8.png\n",
            "/content/drive/MyDrive/final_year_project/outputs/patches7/val/pneumonia/Viral Pneumonia-160_patch5.png\n",
            "/content/drive/MyDrive/final_year_project/outputs/patches7/val/pneumonia/Viral Pneumonia-175_patch12.png\n",
            "/content/drive/MyDrive/final_year_project/outputs/patches7/val/pneumonia/Viral Pneumonia-178_patch8.png\n",
            "/content/drive/MyDrive/final_year_project/outputs/patches7/val/pneumonia/Viral Pneumonia-187_patch2.png\n",
            "/content/drive/MyDrive/final_year_project/outputs/patches7/val/pneumonia/Viral Pneumonia-182_patch3.png\n",
            "/content/drive/MyDrive/final_year_project/outputs/patches7/val/pneumonia/Viral Pneumonia-179_patch18.png\n",
            "/content/drive/MyDrive/final_year_project/outputs/patches7/val/pneumonia/Viral Pneumonia-168_patch15.png\n",
            "/content/drive/MyDrive/final_year_project/outputs/patches7/val/pneumonia/Viral Pneumonia-161_patch9.png\n",
            "/content/drive/MyDrive/final_year_project/outputs/patches7/val/pneumonia/Viral Pneumonia-157_patch4.png\n",
            "/content/drive/MyDrive/final_year_project/outputs/patches7/val/pneumonia/Viral Pneumonia-148_patch12.png\n",
            "/content/drive/MyDrive/final_year_project/outputs/patches7/val/pneumonia/Viral Pneumonia-144_patch4.png\n",
            "/content/drive/MyDrive/final_year_project/outputs/patches7/val/pneumonia/Viral Pneumonia-139_patch9.png\n",
            "/content/drive/MyDrive/final_year_project/outputs/patches7/val/pneumonia/Viral Pneumonia-146_patch9.png\n",
            "/content/drive/MyDrive/final_year_project/outputs/patches7/val/pneumonia/Viral Pneumonia-186_patch15.png\n",
            "/content/drive/MyDrive/final_year_project/outputs/patches7/val/pneumonia/Viral Pneumonia-173_patch3.png\n",
            "/content/drive/MyDrive/final_year_project/outputs/patches7/val/pneumonia/Viral Pneumonia-145_patch14.png\n",
            "/content/drive/MyDrive/final_year_project/outputs/patches7/val/pneumonia/Viral Pneumonia-180_patch7.png\n",
            "/content/drive/MyDrive/final_year_project/outputs/patches7/val/pneumonia/Viral Pneumonia-161_patch8.png\n",
            "/content/drive/MyDrive/final_year_project/outputs/patches7/val/pneumonia/Viral Pneumonia-152_patch15.png\n",
            "/content/drive/MyDrive/final_year_project/outputs/patches7/val/pneumonia/Viral Pneumonia-15_patch5.png\n",
            "/content/drive/MyDrive/final_year_project/outputs/patches7/val/pneumonia/Viral Pneumonia-180_patch16.png\n",
            "/content/drive/MyDrive/final_year_project/outputs/patches7/val/pneumonia/Viral Pneumonia-19_patch14.png\n",
            "/content/drive/MyDrive/final_year_project/outputs/patches7/val/pneumonia/Viral Pneumonia-178_patch4.png\n",
            "/content/drive/MyDrive/final_year_project/outputs/patches7/val/pneumonia/Viral Pneumonia-148_patch14.png\n",
            "/content/drive/MyDrive/final_year_project/outputs/patches7/val/pneumonia/Viral Pneumonia-171_patch11.png\n",
            "/content/drive/MyDrive/final_year_project/outputs/patches7/val/pneumonia/Viral Pneumonia-186_patch17.png\n",
            "/content/drive/MyDrive/final_year_project/outputs/patches7/val/pneumonia/Viral Pneumonia-164_patch14.png\n",
            "/content/drive/MyDrive/final_year_project/outputs/patches7/val/pneumonia/Viral Pneumonia-182_patch10.png\n",
            "/content/drive/MyDrive/final_year_project/outputs/patches7/val/pneumonia/Viral Pneumonia-171_patch18.png\n",
            "/content/drive/MyDrive/final_year_project/outputs/patches7/val/pneumonia/Viral Pneumonia-178_patch13.png\n",
            "/content/drive/MyDrive/final_year_project/outputs/patches7/val/pneumonia/Viral Pneumonia-163_patch0.png\n",
            "/content/drive/MyDrive/final_year_project/outputs/patches7/val/pneumonia/Viral Pneumonia-183_patch14.png\n",
            "/content/drive/MyDrive/final_year_project/outputs/patches7/val/pneumonia/Viral Pneumonia-145_patch0.png\n",
            "/content/drive/MyDrive/final_year_project/outputs/patches7/val/pneumonia/Viral Pneumonia-183_patch3.png\n",
            "/content/drive/MyDrive/final_year_project/outputs/patches7/val/pneumonia/Viral Pneumonia-186_patch10.png\n",
            "/content/drive/MyDrive/final_year_project/outputs/patches7/val/pneumonia/Viral Pneumonia-160_patch14.png\n",
            "/content/drive/MyDrive/final_year_project/outputs/patches7/val/pneumonia/Viral Pneumonia-149_patch11.png\n",
            "/content/drive/MyDrive/final_year_project/outputs/patches7/val/pneumonia/Viral Pneumonia-179_patch15.png\n",
            "/content/drive/MyDrive/final_year_project/outputs/patches7/val/pneumonia/Viral Pneumonia-143_patch11.png\n",
            "/content/drive/MyDrive/final_year_project/outputs/patches7/val/pneumonia/Viral Pneumonia-188_patch2.png\n",
            "/content/drive/MyDrive/final_year_project/outputs/patches7/val/pneumonia/Viral Pneumonia-169_patch5.png\n",
            "/content/drive/MyDrive/final_year_project/outputs/patches7/val/pneumonia/Viral Pneumonia-15_patch7.png\n",
            "/content/drive/MyDrive/final_year_project/outputs/patches7/val/pneumonia/Viral Pneumonia-182_patch15.png\n",
            "/content/drive/MyDrive/final_year_project/outputs/patches7/val/pneumonia/Viral Pneumonia-164_patch11.png\n",
            "/content/drive/MyDrive/final_year_project/outputs/patches7/val/pneumonia/Viral Pneumonia-166_patch11.png\n",
            "/content/drive/MyDrive/final_year_project/outputs/patches7/val/pneumonia/Viral Pneumonia-183_patch15.png\n",
            "/content/drive/MyDrive/final_year_project/outputs/patches7/val/pneumonia/Viral Pneumonia-149_patch6.png\n",
            "/content/drive/MyDrive/final_year_project/outputs/patches7/val/pneumonia/Viral Pneumonia-161_patch6.png\n",
            "/content/drive/MyDrive/final_year_project/outputs/patches7/val/pneumonia/Viral Pneumonia-187_patch15.png\n",
            "/content/drive/MyDrive/final_year_project/outputs/patches7/val/pneumonia/Viral Pneumonia-19_patch16.png\n",
            "/content/drive/MyDrive/final_year_project/outputs/patches7/val/pneumonia/Viral Pneumonia-186_patch13.png\n",
            "/content/drive/MyDrive/final_year_project/outputs/patches7/val/pneumonia/Viral Pneumonia-139_patch12.png\n",
            "/content/drive/MyDrive/final_year_project/outputs/patches7/val/pneumonia/Viral Pneumonia-143_patch18.png\n",
            "/content/drive/MyDrive/final_year_project/outputs/patches7/val/pneumonia/Viral Pneumonia-160_patch15.png\n",
            "/content/drive/MyDrive/final_year_project/outputs/patches7/val/pneumonia/Viral Pneumonia-148_patch9.png\n",
            "/content/drive/MyDrive/final_year_project/outputs/patches7/val/pneumonia/Viral Pneumonia-164_patch9.png\n",
            "/content/drive/MyDrive/final_year_project/outputs/patches7/val/pneumonia/Viral Pneumonia-183_patch0.png\n",
            "/content/drive/MyDrive/final_year_project/outputs/patches7/val/pneumonia/Viral Pneumonia-183_patch1.png\n",
            "/content/drive/MyDrive/final_year_project/outputs/patches7/val/pneumonia/Viral Pneumonia-183_patch2.png\n",
            "/content/drive/MyDrive/final_year_project/outputs/patches7/val/pneumonia/Viral Pneumonia-183_patch4.png\n",
            "/content/drive/MyDrive/final_year_project/outputs/patches7/val/pneumonia/Viral Pneumonia-183_patch5.png\n",
            "/content/drive/MyDrive/final_year_project/outputs/patches7/val/pneumonia/Viral Pneumonia-183_patch6.png\n",
            "/content/drive/MyDrive/final_year_project/outputs/patches7/val/pneumonia/Viral Pneumonia-183_patch7.png\n",
            "/content/drive/MyDrive/final_year_project/outputs/patches7/val/pneumonia/Viral Pneumonia-183_patch8.png\n",
            "/content/drive/MyDrive/final_year_project/outputs/patches7/val/pneumonia/Viral Pneumonia-183_patch9.png\n",
            "/content/drive/MyDrive/final_year_project/outputs/patches7/val/pneumonia/Viral Pneumonia-183_patch10.png\n",
            "/content/drive/MyDrive/final_year_project/outputs/patches7/val/pneumonia/Viral Pneumonia-183_patch11.png\n",
            "/content/drive/MyDrive/final_year_project/outputs/patches7/val/pneumonia/Viral Pneumonia-183_patch12.png\n",
            "/content/drive/MyDrive/final_year_project/outputs/patches7/val/pneumonia/Viral Pneumonia-183_patch13.png\n",
            "/content/drive/MyDrive/final_year_project/outputs/patches7/val/pneumonia/Viral Pneumonia-183_patch16.png\n",
            "/content/drive/MyDrive/final_year_project/outputs/patches7/val/pneumonia/Viral Pneumonia-183_patch17.png\n",
            "/content/drive/MyDrive/final_year_project/outputs/patches7/val/pneumonia/Viral Pneumonia-183_patch18.png\n",
            "/content/drive/MyDrive/final_year_project/outputs/patches7/val/pneumonia/Viral Pneumonia-180_patch0.png\n",
            "/content/drive/MyDrive/final_year_project/outputs/patches7/val/pneumonia/Viral Pneumonia-180_patch1.png\n",
            "/content/drive/MyDrive/final_year_project/outputs/patches7/val/pneumonia/Viral Pneumonia-180_patch2.png\n",
            "/content/drive/MyDrive/final_year_project/outputs/patches7/val/pneumonia/Viral Pneumonia-180_patch3.png\n",
            "/content/drive/MyDrive/final_year_project/outputs/patches7/val/pneumonia/Viral Pneumonia-180_patch4.png\n",
            "/content/drive/MyDrive/final_year_project/outputs/patches7/val/pneumonia/Viral Pneumonia-180_patch5.png\n",
            "/content/drive/MyDrive/final_year_project/outputs/patches7/val/pneumonia/Viral Pneumonia-180_patch6.png\n",
            "/content/drive/MyDrive/final_year_project/outputs/patches7/val/pneumonia/Viral Pneumonia-180_patch8.png\n",
            "/content/drive/MyDrive/final_year_project/outputs/patches7/val/pneumonia/Viral Pneumonia-180_patch9.png\n",
            "/content/drive/MyDrive/final_year_project/outputs/patches7/val/pneumonia/Viral Pneumonia-180_patch10.png\n",
            "/content/drive/MyDrive/final_year_project/outputs/patches7/val/pneumonia/Viral Pneumonia-180_patch11.png\n",
            "/content/drive/MyDrive/final_year_project/outputs/patches7/val/pneumonia/Viral Pneumonia-180_patch12.png\n",
            "/content/drive/MyDrive/final_year_project/outputs/patches7/val/pneumonia/Viral Pneumonia-180_patch13.png\n",
            "/content/drive/MyDrive/final_year_project/outputs/patches7/val/pneumonia/Viral Pneumonia-180_patch14.png\n",
            "/content/drive/MyDrive/final_year_project/outputs/patches7/val/pneumonia/Viral Pneumonia-180_patch15.png\n",
            "/content/drive/MyDrive/final_year_project/outputs/patches7/val/pneumonia/Viral Pneumonia-180_patch17.png\n",
            "/content/drive/MyDrive/final_year_project/outputs/patches7/val/pneumonia/Viral Pneumonia-180_patch18.png\n",
            "/content/drive/MyDrive/final_year_project/outputs/patches7/val/pneumonia/Viral Pneumonia-180_patch19.png\n",
            "/content/drive/MyDrive/final_year_project/outputs/patches7/val/pneumonia/Viral Pneumonia-164_patch0.png\n",
            "/content/drive/MyDrive/final_year_project/outputs/patches7/val/pneumonia/Viral Pneumonia-164_patch1.png\n",
            "/content/drive/MyDrive/final_year_project/outputs/patches7/val/pneumonia/Viral Pneumonia-164_patch2.png\n",
            "/content/drive/MyDrive/final_year_project/outputs/patches7/val/pneumonia/Viral Pneumonia-164_patch3.png\n",
            "/content/drive/MyDrive/final_year_project/outputs/patches7/val/pneumonia/Viral Pneumonia-164_patch4.png\n",
            "/content/drive/MyDrive/final_year_project/outputs/patches7/val/pneumonia/Viral Pneumonia-164_patch5.png\n",
            "/content/drive/MyDrive/final_year_project/outputs/patches7/val/pneumonia/Viral Pneumonia-164_patch6.png\n",
            "/content/drive/MyDrive/final_year_project/outputs/patches7/val/pneumonia/Viral Pneumonia-164_patch7.png\n",
            "/content/drive/MyDrive/final_year_project/outputs/patches7/val/pneumonia/Viral Pneumonia-164_patch8.png\n",
            "/content/drive/MyDrive/final_year_project/outputs/patches7/val/pneumonia/Viral Pneumonia-164_patch10.png\n",
            "/content/drive/MyDrive/final_year_project/outputs/patches7/val/pneumonia/Viral Pneumonia-164_patch12.png\n",
            "/content/drive/MyDrive/final_year_project/outputs/patches7/val/pneumonia/Viral Pneumonia-164_patch13.png\n",
            "/content/drive/MyDrive/final_year_project/outputs/patches7/val/pneumonia/Viral Pneumonia-164_patch15.png\n",
            "/content/drive/MyDrive/final_year_project/outputs/patches7/val/pneumonia/Viral Pneumonia-164_patch16.png\n",
            "/content/drive/MyDrive/final_year_project/outputs/patches7/val/pneumonia/Viral Pneumonia-164_patch17.png\n",
            "/content/drive/MyDrive/final_year_project/outputs/patches7/val/pneumonia/Viral Pneumonia-164_patch18.png\n",
            "/content/drive/MyDrive/final_year_project/outputs/patches7/val/pneumonia/Viral Pneumonia-164_patch19.png\n",
            "/content/drive/MyDrive/final_year_project/outputs/patches7/val/pneumonia/Viral Pneumonia-141_patch0.png\n",
            "/content/drive/MyDrive/final_year_project/outputs/patches7/val/pneumonia/Viral Pneumonia-141_patch1.png\n",
            "/content/drive/MyDrive/final_year_project/outputs/patches7/val/pneumonia/Viral Pneumonia-141_patch2.png\n",
            "/content/drive/MyDrive/final_year_project/outputs/patches7/val/pneumonia/Viral Pneumonia-141_patch3.png\n",
            "/content/drive/MyDrive/final_year_project/outputs/patches7/val/pneumonia/Viral Pneumonia-141_patch4.png\n",
            "/content/drive/MyDrive/final_year_project/outputs/patches7/val/pneumonia/Viral Pneumonia-141_patch5.png\n",
            "/content/drive/MyDrive/final_year_project/outputs/patches7/val/pneumonia/Viral Pneumonia-141_patch6.png\n",
            "/content/drive/MyDrive/final_year_project/outputs/patches7/val/pneumonia/Viral Pneumonia-141_patch7.png\n",
            "/content/drive/MyDrive/final_year_project/outputs/patches7/val/pneumonia/Viral Pneumonia-141_patch8.png\n",
            "/content/drive/MyDrive/final_year_project/outputs/patches7/val/pneumonia/Viral Pneumonia-141_patch9.png\n",
            "/content/drive/MyDrive/final_year_project/outputs/patches7/val/pneumonia/Viral Pneumonia-141_patch10.png\n",
            "/content/drive/MyDrive/final_year_project/outputs/patches7/val/pneumonia/Viral Pneumonia-141_patch11.png\n",
            "/content/drive/MyDrive/final_year_project/outputs/patches7/val/pneumonia/Viral Pneumonia-141_patch12.png\n",
            "/content/drive/MyDrive/final_year_project/outputs/patches7/val/pneumonia/Viral Pneumonia-141_patch13.png\n",
            "/content/drive/MyDrive/final_year_project/outputs/patches7/val/pneumonia/Viral Pneumonia-141_patch14.png\n",
            "/content/drive/MyDrive/final_year_project/outputs/patches7/val/pneumonia/Viral Pneumonia-141_patch15.png\n",
            "/content/drive/MyDrive/final_year_project/outputs/patches7/val/pneumonia/Viral Pneumonia-141_patch16.png\n",
            "/content/drive/MyDrive/final_year_project/outputs/patches7/val/pneumonia/Viral Pneumonia-141_patch17.png\n",
            "/content/drive/MyDrive/final_year_project/outputs/patches7/val/pneumonia/Viral Pneumonia-141_patch18.png\n",
            "/content/drive/MyDrive/final_year_project/outputs/patches7/val/pneumonia/Viral Pneumonia-141_patch19.png\n",
            "/content/drive/MyDrive/final_year_project/outputs/patches7/val/pneumonia/Viral Pneumonia-148_patch0.png\n",
            "/content/drive/MyDrive/final_year_project/outputs/patches7/val/pneumonia/Viral Pneumonia-148_patch1.png\n",
            "/content/drive/MyDrive/final_year_project/outputs/patches7/val/pneumonia/Viral Pneumonia-148_patch2.png\n",
            "/content/drive/MyDrive/final_year_project/outputs/patches7/val/pneumonia/Viral Pneumonia-148_patch3.png\n",
            "/content/drive/MyDrive/final_year_project/outputs/patches7/val/pneumonia/Viral Pneumonia-148_patch5.png\n",
            "/content/drive/MyDrive/final_year_project/outputs/patches7/val/pneumonia/Viral Pneumonia-148_patch6.png\n",
            "/content/drive/MyDrive/final_year_project/outputs/patches7/val/pneumonia/Viral Pneumonia-148_patch7.png\n",
            "/content/drive/MyDrive/final_year_project/outputs/patches7/val/pneumonia/Viral Pneumonia-148_patch8.png\n",
            "/content/drive/MyDrive/final_year_project/outputs/patches7/val/pneumonia/Viral Pneumonia-148_patch10.png\n",
            "/content/drive/MyDrive/final_year_project/outputs/patches7/val/pneumonia/Viral Pneumonia-148_patch11.png\n",
            "/content/drive/MyDrive/final_year_project/outputs/patches7/val/pneumonia/Viral Pneumonia-148_patch13.png\n",
            "/content/drive/MyDrive/final_year_project/outputs/patches7/val/pneumonia/Viral Pneumonia-148_patch15.png\n",
            "/content/drive/MyDrive/final_year_project/outputs/patches7/val/pneumonia/Viral Pneumonia-148_patch16.png\n",
            "/content/drive/MyDrive/final_year_project/outputs/patches7/val/pneumonia/Viral Pneumonia-148_patch17.png\n",
            "/content/drive/MyDrive/final_year_project/outputs/patches7/val/pneumonia/Viral Pneumonia-148_patch18.png\n",
            "/content/drive/MyDrive/final_year_project/outputs/patches7/val/pneumonia/Viral Pneumonia-139_patch0.png\n",
            "/content/drive/MyDrive/final_year_project/outputs/patches7/val/pneumonia/Viral Pneumonia-139_patch1.png\n",
            "/content/drive/MyDrive/final_year_project/outputs/patches7/val/pneumonia/Viral Pneumonia-139_patch2.png\n",
            "/content/drive/MyDrive/final_year_project/outputs/patches7/val/pneumonia/Viral Pneumonia-139_patch3.png\n",
            "/content/drive/MyDrive/final_year_project/outputs/patches7/val/pneumonia/Viral Pneumonia-139_patch4.png\n",
            "/content/drive/MyDrive/final_year_project/outputs/patches7/val/pneumonia/Viral Pneumonia-139_patch5.png\n",
            "/content/drive/MyDrive/final_year_project/outputs/patches7/val/pneumonia/Viral Pneumonia-139_patch6.png\n",
            "/content/drive/MyDrive/final_year_project/outputs/patches7/val/pneumonia/Viral Pneumonia-139_patch7.png\n",
            "/content/drive/MyDrive/final_year_project/outputs/patches7/val/pneumonia/Viral Pneumonia-139_patch8.png\n",
            "/content/drive/MyDrive/final_year_project/outputs/patches7/val/pneumonia/Viral Pneumonia-139_patch10.png\n",
            "/content/drive/MyDrive/final_year_project/outputs/patches7/val/pneumonia/Viral Pneumonia-139_patch11.png\n",
            "/content/drive/MyDrive/final_year_project/outputs/patches7/val/pneumonia/Viral Pneumonia-139_patch13.png\n",
            "/content/drive/MyDrive/final_year_project/outputs/patches7/val/pneumonia/Viral Pneumonia-139_patch14.png\n",
            "/content/drive/MyDrive/final_year_project/outputs/patches7/val/pneumonia/Viral Pneumonia-139_patch15.png\n",
            "/content/drive/MyDrive/final_year_project/outputs/patches7/val/pneumonia/Viral Pneumonia-139_patch16.png\n",
            "/content/drive/MyDrive/final_year_project/outputs/patches7/val/pneumonia/Viral Pneumonia-139_patch17.png\n",
            "/content/drive/MyDrive/final_year_project/outputs/patches7/val/pneumonia/Viral Pneumonia-139_patch18.png\n",
            "/content/drive/MyDrive/final_year_project/outputs/patches7/val/pneumonia/Viral Pneumonia-152_patch0.png\n",
            "/content/drive/MyDrive/final_year_project/outputs/patches7/val/pneumonia/Viral Pneumonia-152_patch1.png\n",
            "/content/drive/MyDrive/final_year_project/outputs/patches7/val/pneumonia/Viral Pneumonia-152_patch2.png\n",
            "/content/drive/MyDrive/final_year_project/outputs/patches7/val/pneumonia/Viral Pneumonia-152_patch3.png\n",
            "/content/drive/MyDrive/final_year_project/outputs/patches7/val/pneumonia/Viral Pneumonia-152_patch4.png\n",
            "/content/drive/MyDrive/final_year_project/outputs/patches7/val/pneumonia/Viral Pneumonia-152_patch5.png\n",
            "/content/drive/MyDrive/final_year_project/outputs/patches7/val/pneumonia/Viral Pneumonia-152_patch6.png\n",
            "/content/drive/MyDrive/final_year_project/outputs/patches7/val/pneumonia/Viral Pneumonia-152_patch7.png\n",
            "/content/drive/MyDrive/final_year_project/outputs/patches7/val/pneumonia/Viral Pneumonia-152_patch8.png\n",
            "/content/drive/MyDrive/final_year_project/outputs/patches7/val/pneumonia/Viral Pneumonia-152_patch9.png\n",
            "/content/drive/MyDrive/final_year_project/outputs/patches7/val/pneumonia/Viral Pneumonia-152_patch10.png\n",
            "/content/drive/MyDrive/final_year_project/outputs/patches7/val/pneumonia/Viral Pneumonia-152_patch11.png\n",
            "/content/drive/MyDrive/final_year_project/outputs/patches7/val/pneumonia/Viral Pneumonia-152_patch12.png\n",
            "/content/drive/MyDrive/final_year_project/outputs/patches7/val/pneumonia/Viral Pneumonia-152_patch13.png\n",
            "/content/drive/MyDrive/final_year_project/outputs/patches7/val/pneumonia/Viral Pneumonia-152_patch14.png\n",
            "/content/drive/MyDrive/final_year_project/outputs/patches7/val/pneumonia/Viral Pneumonia-152_patch16.png\n",
            "/content/drive/MyDrive/final_year_project/outputs/patches7/val/pneumonia/Viral Pneumonia-152_patch17.png\n",
            "/content/drive/MyDrive/final_year_project/outputs/patches7/val/pneumonia/Viral Pneumonia-152_patch18.png\n",
            "/content/drive/MyDrive/final_year_project/outputs/patches7/val/pneumonia/Viral Pneumonia-152_patch19.png\n",
            "/content/drive/MyDrive/final_year_project/outputs/patches7/val/pneumonia/Viral Pneumonia-182_patch0.png\n",
            "/content/drive/MyDrive/final_year_project/outputs/patches7/val/pneumonia/Viral Pneumonia-182_patch1.png\n",
            "/content/drive/MyDrive/final_year_project/outputs/patches7/val/pneumonia/Viral Pneumonia-182_patch4.png\n",
            "/content/drive/MyDrive/final_year_project/outputs/patches7/val/pneumonia/Viral Pneumonia-182_patch5.png\n",
            "/content/drive/MyDrive/final_year_project/outputs/patches7/val/pneumonia/Viral Pneumonia-182_patch6.png\n",
            "/content/drive/MyDrive/final_year_project/outputs/patches7/val/pneumonia/Viral Pneumonia-182_patch7.png\n",
            "/content/drive/MyDrive/final_year_project/outputs/patches7/val/pneumonia/Viral Pneumonia-182_patch8.png\n",
            "/content/drive/MyDrive/final_year_project/outputs/patches7/val/pneumonia/Viral Pneumonia-182_patch9.png\n",
            "/content/drive/MyDrive/final_year_project/outputs/patches7/val/pneumonia/Viral Pneumonia-182_patch11.png\n",
            "/content/drive/MyDrive/final_year_project/outputs/patches7/val/pneumonia/Viral Pneumonia-182_patch12.png\n",
            "/content/drive/MyDrive/final_year_project/outputs/patches7/val/pneumonia/Viral Pneumonia-182_patch13.png\n",
            "/content/drive/MyDrive/final_year_project/outputs/patches7/val/pneumonia/Viral Pneumonia-182_patch14.png\n",
            "/content/drive/MyDrive/final_year_project/outputs/patches7/val/pneumonia/Viral Pneumonia-182_patch16.png\n",
            "/content/drive/MyDrive/final_year_project/outputs/patches7/val/pneumonia/Viral Pneumonia-182_patch17.png\n",
            "/content/drive/MyDrive/final_year_project/outputs/patches7/val/pneumonia/Viral Pneumonia-182_patch18.png\n",
            "/content/drive/MyDrive/final_year_project/outputs/patches7/val/pneumonia/Viral Pneumonia-182_patch19.png\n",
            "/content/drive/MyDrive/final_year_project/outputs/patches7/val/pneumonia/Viral Pneumonia-149_patch0.png\n",
            "/content/drive/MyDrive/final_year_project/outputs/patches7/val/pneumonia/Viral Pneumonia-149_patch1.png\n",
            "/content/drive/MyDrive/final_year_project/outputs/patches7/val/pneumonia/Viral Pneumonia-149_patch2.png\n",
            "/content/drive/MyDrive/final_year_project/outputs/patches7/val/pneumonia/Viral Pneumonia-149_patch3.png\n",
            "/content/drive/MyDrive/final_year_project/outputs/patches7/val/pneumonia/Viral Pneumonia-149_patch4.png\n",
            "/content/drive/MyDrive/final_year_project/outputs/patches7/val/pneumonia/Viral Pneumonia-149_patch7.png\n",
            "/content/drive/MyDrive/final_year_project/outputs/patches7/val/pneumonia/Viral Pneumonia-149_patch8.png\n",
            "/content/drive/MyDrive/final_year_project/outputs/patches7/val/pneumonia/Viral Pneumonia-149_patch9.png\n",
            "/content/drive/MyDrive/final_year_project/outputs/patches7/val/pneumonia/Viral Pneumonia-149_patch10.png\n",
            "/content/drive/MyDrive/final_year_project/outputs/patches7/val/pneumonia/Viral Pneumonia-149_patch12.png\n",
            "/content/drive/MyDrive/final_year_project/outputs/patches7/val/pneumonia/Viral Pneumonia-149_patch13.png\n",
            "/content/drive/MyDrive/final_year_project/outputs/patches7/val/pneumonia/Viral Pneumonia-149_patch14.png\n",
            "/content/drive/MyDrive/final_year_project/outputs/patches7/val/pneumonia/Viral Pneumonia-149_patch15.png\n",
            "/content/drive/MyDrive/final_year_project/outputs/patches7/val/pneumonia/Viral Pneumonia-149_patch16.png\n",
            "/content/drive/MyDrive/final_year_project/outputs/patches7/val/pneumonia/Viral Pneumonia-149_patch17.png\n",
            "/content/drive/MyDrive/final_year_project/outputs/patches7/val/pneumonia/Viral Pneumonia-149_patch18.png\n",
            "/content/drive/MyDrive/final_year_project/outputs/patches7/val/pneumonia/Viral Pneumonia-149_patch19.png\n",
            "/content/drive/MyDrive/final_year_project/outputs/patches7/val/pneumonia/Viral Pneumonia-145_patch1.png\n",
            "/content/drive/MyDrive/final_year_project/outputs/patches7/val/pneumonia/Viral Pneumonia-145_patch2.png\n",
            "/content/drive/MyDrive/final_year_project/outputs/patches7/val/pneumonia/Viral Pneumonia-145_patch3.png\n",
            "/content/drive/MyDrive/final_year_project/outputs/patches7/val/pneumonia/Viral Pneumonia-145_patch4.png\n",
            "/content/drive/MyDrive/final_year_project/outputs/patches7/val/pneumonia/Viral Pneumonia-145_patch5.png\n",
            "/content/drive/MyDrive/final_year_project/outputs/patches7/val/pneumonia/Viral Pneumonia-145_patch6.png\n",
            "/content/drive/MyDrive/final_year_project/outputs/patches7/val/pneumonia/Viral Pneumonia-145_patch8.png\n",
            "/content/drive/MyDrive/final_year_project/outputs/patches7/val/pneumonia/Viral Pneumonia-145_patch9.png\n",
            "/content/drive/MyDrive/final_year_project/outputs/patches7/val/pneumonia/Viral Pneumonia-145_patch10.png\n",
            "/content/drive/MyDrive/final_year_project/outputs/patches7/val/pneumonia/Viral Pneumonia-145_patch11.png\n",
            "/content/drive/MyDrive/final_year_project/outputs/patches7/val/pneumonia/Viral Pneumonia-145_patch12.png\n",
            "/content/drive/MyDrive/final_year_project/outputs/patches7/val/pneumonia/Viral Pneumonia-145_patch13.png\n",
            "/content/drive/MyDrive/final_year_project/outputs/patches7/val/pneumonia/Viral Pneumonia-145_patch15.png\n",
            "/content/drive/MyDrive/final_year_project/outputs/patches7/val/pneumonia/Viral Pneumonia-145_patch16.png\n",
            "/content/drive/MyDrive/final_year_project/outputs/patches7/val/pneumonia/Viral Pneumonia-145_patch17.png\n",
            "/content/drive/MyDrive/final_year_project/outputs/patches7/val/pneumonia/Viral Pneumonia-145_patch18.png\n",
            "/content/drive/MyDrive/final_year_project/outputs/patches7/val/pneumonia/Viral Pneumonia-145_patch19.png\n",
            "/content/drive/MyDrive/final_year_project/outputs/patches7/val/pneumonia/Viral Pneumonia-160_patch1.png\n",
            "/content/drive/MyDrive/final_year_project/outputs/patches7/val/pneumonia/Viral Pneumonia-160_patch2.png\n",
            "/content/drive/MyDrive/final_year_project/outputs/patches7/val/pneumonia/Viral Pneumonia-160_patch3.png\n",
            "/content/drive/MyDrive/final_year_project/outputs/patches7/val/pneumonia/Viral Pneumonia-160_patch4.png\n",
            "/content/drive/MyDrive/final_year_project/outputs/patches7/val/pneumonia/Viral Pneumonia-160_patch6.png\n",
            "/content/drive/MyDrive/final_year_project/outputs/patches7/val/pneumonia/Viral Pneumonia-160_patch7.png\n",
            "/content/drive/MyDrive/final_year_project/outputs/patches7/val/pneumonia/Viral Pneumonia-160_patch8.png\n",
            "/content/drive/MyDrive/final_year_project/outputs/patches7/val/pneumonia/Viral Pneumonia-160_patch9.png\n",
            "/content/drive/MyDrive/final_year_project/outputs/patches7/val/pneumonia/Viral Pneumonia-160_patch10.png\n",
            "/content/drive/MyDrive/final_year_project/outputs/patches7/val/pneumonia/Viral Pneumonia-160_patch11.png\n",
            "/content/drive/MyDrive/final_year_project/outputs/patches7/val/pneumonia/Viral Pneumonia-160_patch12.png\n",
            "/content/drive/MyDrive/final_year_project/outputs/patches7/val/pneumonia/Viral Pneumonia-160_patch13.png\n",
            "/content/drive/MyDrive/final_year_project/outputs/patches7/val/pneumonia/Viral Pneumonia-160_patch16.png\n",
            "/content/drive/MyDrive/final_year_project/outputs/patches7/val/pneumonia/Viral Pneumonia-160_patch17.png\n",
            "/content/drive/MyDrive/final_year_project/outputs/patches7/val/pneumonia/Viral Pneumonia-160_patch18.png\n",
            "/content/drive/MyDrive/final_year_project/outputs/patches7/val/pneumonia/Viral Pneumonia-160_patch19.png\n",
            "/content/drive/MyDrive/final_year_project/outputs/patches7/val/pneumonia/Viral Pneumonia-172_patch0.png\n",
            "/content/drive/MyDrive/final_year_project/outputs/patches7/val/pneumonia/Viral Pneumonia-172_patch1.png\n",
            "/content/drive/MyDrive/final_year_project/outputs/patches7/val/pneumonia/Viral Pneumonia-172_patch2.png\n",
            "/content/drive/MyDrive/final_year_project/outputs/patches7/val/pneumonia/Viral Pneumonia-172_patch3.png\n",
            "/content/drive/MyDrive/final_year_project/outputs/patches7/val/pneumonia/Viral Pneumonia-172_patch4.png\n",
            "/content/drive/MyDrive/final_year_project/outputs/patches7/val/pneumonia/Viral Pneumonia-172_patch5.png\n",
            "/content/drive/MyDrive/final_year_project/outputs/patches7/val/pneumonia/Viral Pneumonia-172_patch6.png\n",
            "/content/drive/MyDrive/final_year_project/outputs/patches7/val/pneumonia/Viral Pneumonia-172_patch7.png\n",
            "/content/drive/MyDrive/final_year_project/outputs/patches7/val/pneumonia/Viral Pneumonia-172_patch8.png\n",
            "/content/drive/MyDrive/final_year_project/outputs/patches7/val/pneumonia/Viral Pneumonia-172_patch9.png\n",
            "/content/drive/MyDrive/final_year_project/outputs/patches7/val/pneumonia/Viral Pneumonia-172_patch10.png\n",
            "/content/drive/MyDrive/final_year_project/outputs/patches7/val/pneumonia/Viral Pneumonia-172_patch12.png\n",
            "/content/drive/MyDrive/final_year_project/outputs/patches7/val/pneumonia/Viral Pneumonia-172_patch13.png\n",
            "/content/drive/MyDrive/final_year_project/outputs/patches7/val/pneumonia/Viral Pneumonia-172_patch14.png\n",
            "/content/drive/MyDrive/final_year_project/outputs/patches7/val/pneumonia/Viral Pneumonia-172_patch16.png\n",
            "/content/drive/MyDrive/final_year_project/outputs/patches7/val/pneumonia/Viral Pneumonia-172_patch17.png\n",
            "/content/drive/MyDrive/final_year_project/outputs/patches7/val/pneumonia/Viral Pneumonia-172_patch18.png\n",
            "/content/drive/MyDrive/final_year_project/outputs/patches7/val/pneumonia/Viral Pneumonia-172_patch19.png\n",
            "/content/drive/MyDrive/final_year_project/outputs/patches7/val/pneumonia/Viral Pneumonia-161_patch0.png\n",
            "/content/drive/MyDrive/final_year_project/outputs/patches7/val/pneumonia/Viral Pneumonia-161_patch1.png\n",
            "/content/drive/MyDrive/final_year_project/outputs/patches7/val/pneumonia/Viral Pneumonia-161_patch2.png\n",
            "/content/drive/MyDrive/final_year_project/outputs/patches7/val/pneumonia/Viral Pneumonia-161_patch4.png\n",
            "/content/drive/MyDrive/final_year_project/outputs/patches7/val/pneumonia/Viral Pneumonia-161_patch5.png\n",
            "/content/drive/MyDrive/final_year_project/outputs/patches7/val/pneumonia/Viral Pneumonia-161_patch10.png\n",
            "/content/drive/MyDrive/final_year_project/outputs/patches7/val/pneumonia/Viral Pneumonia-161_patch11.png\n",
            "/content/drive/MyDrive/final_year_project/outputs/patches7/val/pneumonia/Viral Pneumonia-161_patch12.png\n",
            "/content/drive/MyDrive/final_year_project/outputs/patches7/val/pneumonia/Viral Pneumonia-161_patch13.png\n",
            "/content/drive/MyDrive/final_year_project/outputs/patches7/val/pneumonia/Viral Pneumonia-161_patch14.png\n",
            "/content/drive/MyDrive/final_year_project/outputs/patches7/val/pneumonia/Viral Pneumonia-161_patch15.png\n",
            "/content/drive/MyDrive/final_year_project/outputs/patches7/val/pneumonia/Viral Pneumonia-161_patch16.png\n",
            "/content/drive/MyDrive/final_year_project/outputs/patches7/val/pneumonia/Viral Pneumonia-161_patch17.png\n",
            "/content/drive/MyDrive/final_year_project/outputs/patches7/val/pneumonia/Viral Pneumonia-161_patch18.png\n",
            "/content/drive/MyDrive/final_year_project/outputs/patches7/val/pneumonia/Viral Pneumonia-161_patch19.png\n",
            "/content/drive/MyDrive/final_year_project/outputs/patches7/val/pneumonia/Viral Pneumonia-140_patch0.png\n",
            "/content/drive/MyDrive/final_year_project/outputs/patches7/val/pneumonia/Viral Pneumonia-140_patch1.png\n",
            "/content/drive/MyDrive/final_year_project/outputs/patches7/val/pneumonia/Viral Pneumonia-140_patch2.png\n",
            "/content/drive/MyDrive/final_year_project/outputs/patches7/val/pneumonia/Viral Pneumonia-140_patch3.png\n",
            "/content/drive/MyDrive/final_year_project/outputs/patches7/val/pneumonia/Viral Pneumonia-140_patch4.png\n",
            "/content/drive/MyDrive/final_year_project/outputs/patches7/val/pneumonia/Viral Pneumonia-140_patch5.png\n",
            "/content/drive/MyDrive/final_year_project/outputs/patches7/val/pneumonia/Viral Pneumonia-140_patch6.png\n",
            "/content/drive/MyDrive/final_year_project/outputs/patches7/val/pneumonia/Viral Pneumonia-140_patch7.png\n",
            "/content/drive/MyDrive/final_year_project/outputs/patches7/val/pneumonia/Viral Pneumonia-140_patch8.png\n",
            "/content/drive/MyDrive/final_year_project/outputs/patches7/val/pneumonia/Viral Pneumonia-140_patch9.png\n",
            "/content/drive/MyDrive/final_year_project/outputs/patches7/val/pneumonia/Viral Pneumonia-140_patch10.png\n",
            "/content/drive/MyDrive/final_year_project/outputs/patches7/val/pneumonia/Viral Pneumonia-140_patch11.png\n",
            "/content/drive/MyDrive/final_year_project/outputs/patches7/val/pneumonia/Viral Pneumonia-140_patch12.png\n",
            "/content/drive/MyDrive/final_year_project/outputs/patches7/val/pneumonia/Viral Pneumonia-140_patch13.png\n",
            "/content/drive/MyDrive/final_year_project/outputs/patches7/val/pneumonia/Viral Pneumonia-140_patch14.png\n",
            "/content/drive/MyDrive/final_year_project/outputs/patches7/val/pneumonia/Viral Pneumonia-140_patch15.png\n",
            "/content/drive/MyDrive/final_year_project/outputs/patches7/val/pneumonia/Viral Pneumonia-140_patch17.png\n",
            "/content/drive/MyDrive/final_year_project/outputs/patches7/val/pneumonia/Viral Pneumonia-140_patch18.png\n",
            "/content/drive/MyDrive/final_year_project/outputs/patches7/val/pneumonia/Viral Pneumonia-140_patch19.png\n",
            "/content/drive/MyDrive/final_year_project/outputs/patches7/val/pneumonia/Viral Pneumonia-190_patch0.png\n",
            "/content/drive/MyDrive/final_year_project/outputs/patches7/val/pneumonia/Viral Pneumonia-190_patch1.png\n",
            "/content/drive/MyDrive/final_year_project/outputs/patches7/val/pneumonia/Viral Pneumonia-190_patch2.png\n",
            "/content/drive/MyDrive/final_year_project/outputs/patches7/val/pneumonia/Viral Pneumonia-190_patch3.png\n",
            "/content/drive/MyDrive/final_year_project/outputs/patches7/val/pneumonia/Viral Pneumonia-190_patch4.png\n",
            "/content/drive/MyDrive/final_year_project/outputs/patches7/val/pneumonia/Viral Pneumonia-190_patch5.png\n",
            "/content/drive/MyDrive/final_year_project/outputs/patches7/val/pneumonia/Viral Pneumonia-190_patch6.png\n",
            "/content/drive/MyDrive/final_year_project/outputs/patches7/val/pneumonia/Viral Pneumonia-190_patch7.png\n",
            "/content/drive/MyDrive/final_year_project/outputs/patches7/val/pneumonia/Viral Pneumonia-190_patch8.png\n",
            "/content/drive/MyDrive/final_year_project/outputs/patches7/val/pneumonia/Viral Pneumonia-190_patch9.png\n",
            "/content/drive/MyDrive/final_year_project/outputs/patches7/val/pneumonia/Viral Pneumonia-190_patch10.png\n",
            "/content/drive/MyDrive/final_year_project/outputs/patches7/val/pneumonia/Viral Pneumonia-190_patch11.png\n",
            "/content/drive/MyDrive/final_year_project/outputs/patches7/val/pneumonia/Viral Pneumonia-190_patch12.png\n",
            "/content/drive/MyDrive/final_year_project/outputs/patches7/val/pneumonia/Viral Pneumonia-190_patch13.png\n",
            "/content/drive/MyDrive/final_year_project/outputs/patches7/val/pneumonia/Viral Pneumonia-190_patch14.png\n",
            "/content/drive/MyDrive/final_year_project/outputs/patches7/val/pneumonia/Viral Pneumonia-190_patch15.png\n",
            "/content/drive/MyDrive/final_year_project/outputs/patches7/val/pneumonia/Viral Pneumonia-190_patch16.png\n",
            "/content/drive/MyDrive/final_year_project/outputs/patches7/val/pneumonia/Viral Pneumonia-190_patch17.png\n",
            "/content/drive/MyDrive/final_year_project/outputs/patches7/val/pneumonia/Viral Pneumonia-190_patch18.png\n",
            "/content/drive/MyDrive/final_year_project/outputs/patches7/val/pneumonia/Viral Pneumonia-190_patch19.png\n",
            "/content/drive/MyDrive/final_year_project/outputs/patches7/val/pneumonia/Viral Pneumonia-171_patch0.png\n",
            "/content/drive/MyDrive/final_year_project/outputs/patches7/val/pneumonia/Viral Pneumonia-171_patch1.png\n",
            "/content/drive/MyDrive/final_year_project/outputs/patches7/val/pneumonia/Viral Pneumonia-171_patch2.png\n",
            "/content/drive/MyDrive/final_year_project/outputs/patches7/val/pneumonia/Viral Pneumonia-171_patch3.png\n",
            "/content/drive/MyDrive/final_year_project/outputs/patches7/val/pneumonia/Viral Pneumonia-171_patch4.png\n",
            "/content/drive/MyDrive/final_year_project/outputs/patches7/val/pneumonia/Viral Pneumonia-171_patch5.png\n",
            "/content/drive/MyDrive/final_year_project/outputs/patches7/val/pneumonia/Viral Pneumonia-171_patch6.png\n",
            "/content/drive/MyDrive/final_year_project/outputs/patches7/val/pneumonia/Viral Pneumonia-171_patch7.png\n",
            "/content/drive/MyDrive/final_year_project/outputs/patches7/val/pneumonia/Viral Pneumonia-171_patch8.png\n",
            "/content/drive/MyDrive/final_year_project/outputs/patches7/val/pneumonia/Viral Pneumonia-171_patch9.png\n",
            "/content/drive/MyDrive/final_year_project/outputs/patches7/val/pneumonia/Viral Pneumonia-171_patch10.png\n",
            "/content/drive/MyDrive/final_year_project/outputs/patches7/val/pneumonia/Viral Pneumonia-171_patch12.png\n",
            "/content/drive/MyDrive/final_year_project/outputs/patches7/val/pneumonia/Viral Pneumonia-171_patch13.png\n",
            "/content/drive/MyDrive/final_year_project/outputs/patches7/val/pneumonia/Viral Pneumonia-171_patch15.png\n",
            "/content/drive/MyDrive/final_year_project/outputs/patches7/val/pneumonia/Viral Pneumonia-171_patch16.png\n",
            "/content/drive/MyDrive/final_year_project/outputs/patches7/val/pneumonia/Viral Pneumonia-171_patch19.png\n",
            "/content/drive/MyDrive/final_year_project/outputs/patches7/val/pneumonia/Viral Pneumonia-144_patch0.png\n",
            "/content/drive/MyDrive/final_year_project/outputs/patches7/val/pneumonia/Viral Pneumonia-144_patch1.png\n",
            "/content/drive/MyDrive/final_year_project/outputs/patches7/val/pneumonia/Viral Pneumonia-144_patch2.png\n",
            "/content/drive/MyDrive/final_year_project/outputs/patches7/val/pneumonia/Viral Pneumonia-144_patch3.png\n",
            "/content/drive/MyDrive/final_year_project/outputs/patches7/val/pneumonia/Viral Pneumonia-144_patch5.png\n",
            "/content/drive/MyDrive/final_year_project/outputs/patches7/val/pneumonia/Viral Pneumonia-144_patch6.png\n",
            "/content/drive/MyDrive/final_year_project/outputs/patches7/val/pneumonia/Viral Pneumonia-144_patch7.png\n",
            "/content/drive/MyDrive/final_year_project/outputs/patches7/val/pneumonia/Viral Pneumonia-144_patch8.png\n",
            "/content/drive/MyDrive/final_year_project/outputs/patches7/val/pneumonia/Viral Pneumonia-144_patch9.png\n",
            "/content/drive/MyDrive/final_year_project/outputs/patches7/val/pneumonia/Viral Pneumonia-144_patch10.png\n",
            "/content/drive/MyDrive/final_year_project/outputs/patches7/val/pneumonia/Viral Pneumonia-144_patch11.png\n",
            "/content/drive/MyDrive/final_year_project/outputs/patches7/val/pneumonia/Viral Pneumonia-144_patch12.png\n",
            "/content/drive/MyDrive/final_year_project/outputs/patches7/val/pneumonia/Viral Pneumonia-144_patch13.png\n",
            "/content/drive/MyDrive/final_year_project/outputs/patches7/val/pneumonia/Viral Pneumonia-144_patch14.png\n",
            "/content/drive/MyDrive/final_year_project/outputs/patches7/val/pneumonia/Viral Pneumonia-144_patch15.png\n",
            "/content/drive/MyDrive/final_year_project/outputs/patches7/val/pneumonia/Viral Pneumonia-144_patch16.png\n",
            "/content/drive/MyDrive/final_year_project/outputs/patches7/val/pneumonia/Viral Pneumonia-144_patch17.png\n",
            "/content/drive/MyDrive/final_year_project/outputs/patches7/val/pneumonia/Viral Pneumonia-144_patch18.png\n",
            "/content/drive/MyDrive/final_year_project/outputs/patches7/val/pneumonia/Viral Pneumonia-144_patch19.png\n",
            "/content/drive/MyDrive/final_year_project/outputs/patches7/val/pneumonia/Viral Pneumonia-173_patch0.png\n",
            "/content/drive/MyDrive/final_year_project/outputs/patches7/val/pneumonia/Viral Pneumonia-173_patch1.png\n",
            "/content/drive/MyDrive/final_year_project/outputs/patches7/val/pneumonia/Viral Pneumonia-173_patch2.png\n",
            "/content/drive/MyDrive/final_year_project/outputs/patches7/val/pneumonia/Viral Pneumonia-173_patch4.png\n",
            "/content/drive/MyDrive/final_year_project/outputs/patches7/val/pneumonia/Viral Pneumonia-173_patch5.png\n",
            "/content/drive/MyDrive/final_year_project/outputs/patches7/val/pneumonia/Viral Pneumonia-173_patch6.png\n",
            "/content/drive/MyDrive/final_year_project/outputs/patches7/val/pneumonia/Viral Pneumonia-173_patch7.png\n",
            "/content/drive/MyDrive/final_year_project/outputs/patches7/val/pneumonia/Viral Pneumonia-173_patch8.png\n",
            "/content/drive/MyDrive/final_year_project/outputs/patches7/val/pneumonia/Viral Pneumonia-173_patch9.png\n",
            "/content/drive/MyDrive/final_year_project/outputs/patches7/val/pneumonia/Viral Pneumonia-173_patch10.png\n",
            "/content/drive/MyDrive/final_year_project/outputs/patches7/val/pneumonia/Viral Pneumonia-173_patch11.png\n",
            "/content/drive/MyDrive/final_year_project/outputs/patches7/val/pneumonia/Viral Pneumonia-173_patch12.png\n",
            "/content/drive/MyDrive/final_year_project/outputs/patches7/val/pneumonia/Viral Pneumonia-173_patch13.png\n",
            "/content/drive/MyDrive/final_year_project/outputs/patches7/val/pneumonia/Viral Pneumonia-173_patch14.png\n",
            "/content/drive/MyDrive/final_year_project/outputs/patches7/val/pneumonia/Viral Pneumonia-173_patch15.png\n",
            "/content/drive/MyDrive/final_year_project/outputs/patches7/val/pneumonia/Viral Pneumonia-173_patch16.png\n",
            "/content/drive/MyDrive/final_year_project/outputs/patches7/val/pneumonia/Viral Pneumonia-173_patch17.png\n",
            "/content/drive/MyDrive/final_year_project/outputs/patches7/val/pneumonia/Viral Pneumonia-173_patch18.png\n",
            "/content/drive/MyDrive/final_year_project/outputs/patches7/val/pneumonia/Viral Pneumonia-173_patch19.png\n",
            "/content/drive/MyDrive/final_year_project/outputs/patches7/val/pneumonia/Viral Pneumonia-143_patch0.png\n",
            "/content/drive/MyDrive/final_year_project/outputs/patches7/val/pneumonia/Viral Pneumonia-143_patch1.png\n",
            "/content/drive/MyDrive/final_year_project/outputs/patches7/val/pneumonia/Viral Pneumonia-143_patch2.png\n",
            "/content/drive/MyDrive/final_year_project/outputs/patches7/val/pneumonia/Viral Pneumonia-143_patch3.png\n",
            "/content/drive/MyDrive/final_year_project/outputs/patches7/val/pneumonia/Viral Pneumonia-143_patch4.png\n",
            "/content/drive/MyDrive/final_year_project/outputs/patches7/val/pneumonia/Viral Pneumonia-143_patch5.png\n",
            "/content/drive/MyDrive/final_year_project/outputs/patches7/val/pneumonia/Viral Pneumonia-143_patch6.png\n",
            "/content/drive/MyDrive/final_year_project/outputs/patches7/val/pneumonia/Viral Pneumonia-143_patch7.png\n",
            "/content/drive/MyDrive/final_year_project/outputs/patches7/val/pneumonia/Viral Pneumonia-143_patch8.png\n",
            "/content/drive/MyDrive/final_year_project/outputs/patches7/val/pneumonia/Viral Pneumonia-143_patch10.png\n",
            "/content/drive/MyDrive/final_year_project/outputs/patches7/val/pneumonia/Viral Pneumonia-143_patch12.png\n",
            "/content/drive/MyDrive/final_year_project/outputs/patches7/val/pneumonia/Viral Pneumonia-143_patch13.png\n",
            "/content/drive/MyDrive/final_year_project/outputs/patches7/val/pneumonia/Viral Pneumonia-143_patch14.png\n",
            "/content/drive/MyDrive/final_year_project/outputs/patches7/val/pneumonia/Viral Pneumonia-143_patch16.png\n",
            "/content/drive/MyDrive/final_year_project/outputs/patches7/val/pneumonia/Viral Pneumonia-143_patch17.png\n",
            "/content/drive/MyDrive/final_year_project/outputs/patches7/val/pneumonia/Viral Pneumonia-143_patch19.png\n",
            "/content/drive/MyDrive/final_year_project/outputs/patches7/val/pneumonia/Viral Pneumonia-168_patch0.png\n",
            "/content/drive/MyDrive/final_year_project/outputs/patches7/val/pneumonia/Viral Pneumonia-168_patch1.png\n",
            "/content/drive/MyDrive/final_year_project/outputs/patches7/val/pneumonia/Viral Pneumonia-168_patch2.png\n",
            "/content/drive/MyDrive/final_year_project/outputs/patches7/val/pneumonia/Viral Pneumonia-168_patch3.png\n",
            "/content/drive/MyDrive/final_year_project/outputs/patches7/val/pneumonia/Viral Pneumonia-168_patch4.png\n",
            "/content/drive/MyDrive/final_year_project/outputs/patches7/val/pneumonia/Viral Pneumonia-168_patch5.png\n",
            "/content/drive/MyDrive/final_year_project/outputs/patches7/val/pneumonia/Viral Pneumonia-168_patch6.png\n",
            "/content/drive/MyDrive/final_year_project/outputs/patches7/val/pneumonia/Viral Pneumonia-168_patch7.png\n",
            "/content/drive/MyDrive/final_year_project/outputs/patches7/val/pneumonia/Viral Pneumonia-168_patch8.png\n",
            "/content/drive/MyDrive/final_year_project/outputs/patches7/val/pneumonia/Viral Pneumonia-168_patch9.png\n",
            "/content/drive/MyDrive/final_year_project/outputs/patches7/val/pneumonia/Viral Pneumonia-168_patch10.png\n",
            "/content/drive/MyDrive/final_year_project/outputs/patches7/val/pneumonia/Viral Pneumonia-168_patch12.png\n",
            "/content/drive/MyDrive/final_year_project/outputs/patches7/val/pneumonia/Viral Pneumonia-168_patch13.png\n",
            "/content/drive/MyDrive/final_year_project/outputs/patches7/val/pneumonia/Viral Pneumonia-168_patch14.png\n",
            "/content/drive/MyDrive/final_year_project/outputs/patches7/val/pneumonia/Viral Pneumonia-168_patch16.png\n",
            "/content/drive/MyDrive/final_year_project/outputs/patches7/val/pneumonia/Viral Pneumonia-168_patch18.png\n",
            "/content/drive/MyDrive/final_year_project/outputs/patches7/val/pneumonia/Viral Pneumonia-168_patch19.png\n",
            "/content/drive/MyDrive/final_year_project/outputs/patches7/val/pneumonia/Viral Pneumonia-167_patch0.png\n",
            "/content/drive/MyDrive/final_year_project/outputs/patches7/val/pneumonia/Viral Pneumonia-167_patch1.png\n",
            "/content/drive/MyDrive/final_year_project/outputs/patches7/val/pneumonia/Viral Pneumonia-167_patch2.png\n",
            "/content/drive/MyDrive/final_year_project/outputs/patches7/val/pneumonia/Viral Pneumonia-167_patch3.png\n",
            "/content/drive/MyDrive/final_year_project/outputs/patches7/val/pneumonia/Viral Pneumonia-167_patch4.png\n",
            "/content/drive/MyDrive/final_year_project/outputs/patches7/val/pneumonia/Viral Pneumonia-167_patch5.png\n",
            "/content/drive/MyDrive/final_year_project/outputs/patches7/val/pneumonia/Viral Pneumonia-167_patch6.png\n",
            "/content/drive/MyDrive/final_year_project/outputs/patches7/val/pneumonia/Viral Pneumonia-167_patch7.png\n",
            "/content/drive/MyDrive/final_year_project/outputs/patches7/val/pneumonia/Viral Pneumonia-167_patch8.png\n",
            "/content/drive/MyDrive/final_year_project/outputs/patches7/val/pneumonia/Viral Pneumonia-167_patch9.png\n",
            "/content/drive/MyDrive/final_year_project/outputs/patches7/val/pneumonia/Viral Pneumonia-167_patch10.png\n",
            "/content/drive/MyDrive/final_year_project/outputs/patches7/val/pneumonia/Viral Pneumonia-167_patch11.png\n",
            "/content/drive/MyDrive/final_year_project/outputs/patches7/val/pneumonia/Viral Pneumonia-167_patch13.png\n",
            "/content/drive/MyDrive/final_year_project/outputs/patches7/val/pneumonia/Viral Pneumonia-167_patch14.png\n",
            "/content/drive/MyDrive/final_year_project/outputs/patches7/val/pneumonia/Viral Pneumonia-167_patch15.png\n",
            "/content/drive/MyDrive/final_year_project/outputs/patches7/val/pneumonia/Viral Pneumonia-167_patch16.png\n",
            "/content/drive/MyDrive/final_year_project/outputs/patches7/val/pneumonia/Viral Pneumonia-167_patch17.png\n",
            "/content/drive/MyDrive/final_year_project/outputs/patches7/val/pneumonia/Viral Pneumonia-167_patch19.png\n",
            "/content/drive/MyDrive/final_year_project/outputs/patches7/val/pneumonia/Viral Pneumonia-186_patch0.png\n",
            "/content/drive/MyDrive/final_year_project/outputs/patches7/val/pneumonia/Viral Pneumonia-186_patch1.png\n",
            "/content/drive/MyDrive/final_year_project/outputs/patches7/val/pneumonia/Viral Pneumonia-186_patch2.png\n",
            "/content/drive/MyDrive/final_year_project/outputs/patches7/val/pneumonia/Viral Pneumonia-186_patch3.png\n",
            "/content/drive/MyDrive/final_year_project/outputs/patches7/val/pneumonia/Viral Pneumonia-186_patch4.png\n",
            "/content/drive/MyDrive/final_year_project/outputs/patches7/val/pneumonia/Viral Pneumonia-186_patch5.png\n",
            "/content/drive/MyDrive/final_year_project/outputs/patches7/val/pneumonia/Viral Pneumonia-186_patch6.png\n",
            "/content/drive/MyDrive/final_year_project/outputs/patches7/val/pneumonia/Viral Pneumonia-186_patch7.png\n",
            "/content/drive/MyDrive/final_year_project/outputs/patches7/val/pneumonia/Viral Pneumonia-186_patch9.png\n",
            "/content/drive/MyDrive/final_year_project/outputs/patches7/val/pneumonia/Viral Pneumonia-186_patch11.png\n",
            "/content/drive/MyDrive/final_year_project/outputs/patches7/val/pneumonia/Viral Pneumonia-186_patch12.png\n",
            "/content/drive/MyDrive/final_year_project/outputs/patches7/val/pneumonia/Viral Pneumonia-186_patch14.png\n",
            "/content/drive/MyDrive/final_year_project/outputs/patches7/val/pneumonia/Viral Pneumonia-186_patch16.png\n",
            "/content/drive/MyDrive/final_year_project/outputs/patches7/val/pneumonia/Viral Pneumonia-186_patch18.png\n",
            "/content/drive/MyDrive/final_year_project/outputs/patches7/val/pneumonia/Viral Pneumonia-186_patch19.png\n",
            "/content/drive/MyDrive/final_year_project/outputs/patches7/val/pneumonia/Viral Pneumonia-166_patch0.png\n",
            "/content/drive/MyDrive/final_year_project/outputs/patches7/val/pneumonia/Viral Pneumonia-166_patch1.png\n",
            "/content/drive/MyDrive/final_year_project/outputs/patches7/val/pneumonia/Viral Pneumonia-166_patch2.png\n",
            "/content/drive/MyDrive/final_year_project/outputs/patches7/val/pneumonia/Viral Pneumonia-166_patch3.png\n",
            "/content/drive/MyDrive/final_year_project/outputs/patches7/val/pneumonia/Viral Pneumonia-166_patch4.png\n",
            "/content/drive/MyDrive/final_year_project/outputs/patches7/val/pneumonia/Viral Pneumonia-166_patch5.png\n",
            "/content/drive/MyDrive/final_year_project/outputs/patches7/val/pneumonia/Viral Pneumonia-166_patch7.png\n",
            "/content/drive/MyDrive/final_year_project/outputs/patches7/val/pneumonia/Viral Pneumonia-166_patch8.png\n",
            "/content/drive/MyDrive/final_year_project/outputs/patches7/val/pneumonia/Viral Pneumonia-166_patch10.png\n",
            "/content/drive/MyDrive/final_year_project/outputs/patches7/val/pneumonia/Viral Pneumonia-166_patch12.png\n",
            "/content/drive/MyDrive/final_year_project/outputs/patches7/val/pneumonia/Viral Pneumonia-166_patch13.png\n",
            "/content/drive/MyDrive/final_year_project/outputs/patches7/val/pneumonia/Viral Pneumonia-166_patch14.png\n",
            "/content/drive/MyDrive/final_year_project/outputs/patches7/val/pneumonia/Viral Pneumonia-166_patch15.png\n",
            "/content/drive/MyDrive/final_year_project/outputs/patches7/val/pneumonia/Viral Pneumonia-166_patch16.png\n",
            "/content/drive/MyDrive/final_year_project/outputs/patches7/val/pneumonia/Viral Pneumonia-166_patch17.png\n",
            "/content/drive/MyDrive/final_year_project/outputs/patches7/val/pneumonia/Viral Pneumonia-166_patch18.png\n",
            "/content/drive/MyDrive/final_year_project/outputs/patches7/val/pneumonia/Viral Pneumonia-166_patch19.png\n",
            "/content/drive/MyDrive/final_year_project/outputs/patches7/val/pneumonia/Viral Pneumonia-169_patch0.png\n",
            "/content/drive/MyDrive/final_year_project/outputs/patches7/val/pneumonia/Viral Pneumonia-169_patch1.png\n",
            "/content/drive/MyDrive/final_year_project/outputs/patches7/val/pneumonia/Viral Pneumonia-169_patch2.png\n",
            "/content/drive/MyDrive/final_year_project/outputs/patches7/val/pneumonia/Viral Pneumonia-169_patch3.png\n",
            "/content/drive/MyDrive/final_year_project/outputs/patches7/val/pneumonia/Viral Pneumonia-169_patch4.png\n",
            "/content/drive/MyDrive/final_year_project/outputs/patches7/val/pneumonia/Viral Pneumonia-169_patch6.png\n",
            "/content/drive/MyDrive/final_year_project/outputs/patches7/val/pneumonia/Viral Pneumonia-169_patch7.png\n",
            "/content/drive/MyDrive/final_year_project/outputs/patches7/val/pneumonia/Viral Pneumonia-169_patch8.png\n",
            "/content/drive/MyDrive/final_year_project/outputs/patches7/val/pneumonia/Viral Pneumonia-169_patch10.png\n",
            "/content/drive/MyDrive/final_year_project/outputs/patches7/val/pneumonia/Viral Pneumonia-169_patch11.png\n",
            "/content/drive/MyDrive/final_year_project/outputs/patches7/val/pneumonia/Viral Pneumonia-169_patch12.png\n",
            "/content/drive/MyDrive/final_year_project/outputs/patches7/val/pneumonia/Viral Pneumonia-169_patch13.png\n",
            "/content/drive/MyDrive/final_year_project/outputs/patches7/val/pneumonia/Viral Pneumonia-169_patch14.png\n",
            "/content/drive/MyDrive/final_year_project/outputs/patches7/val/pneumonia/Viral Pneumonia-169_patch15.png\n",
            "/content/drive/MyDrive/final_year_project/outputs/patches7/val/pneumonia/Viral Pneumonia-169_patch16.png\n",
            "/content/drive/MyDrive/final_year_project/outputs/patches7/val/pneumonia/Viral Pneumonia-169_patch17.png\n",
            "/content/drive/MyDrive/final_year_project/outputs/patches7/val/pneumonia/Viral Pneumonia-169_patch18.png\n",
            "/content/drive/MyDrive/final_year_project/outputs/patches7/val/pneumonia/Viral Pneumonia-169_patch19.png\n",
            "/content/drive/MyDrive/final_year_project/outputs/patches7/val/pneumonia/Viral Pneumonia-187_patch0.png\n",
            "/content/drive/MyDrive/final_year_project/outputs/patches7/val/pneumonia/Viral Pneumonia-187_patch1.png\n",
            "/content/drive/MyDrive/final_year_project/outputs/patches7/val/pneumonia/Viral Pneumonia-187_patch3.png\n",
            "/content/drive/MyDrive/final_year_project/outputs/patches7/val/pneumonia/Viral Pneumonia-187_patch4.png\n",
            "/content/drive/MyDrive/final_year_project/outputs/patches7/val/pneumonia/Viral Pneumonia-187_patch5.png\n",
            "/content/drive/MyDrive/final_year_project/outputs/patches7/val/pneumonia/Viral Pneumonia-187_patch6.png\n",
            "/content/drive/MyDrive/final_year_project/outputs/patches7/val/pneumonia/Viral Pneumonia-187_patch7.png\n",
            "/content/drive/MyDrive/final_year_project/outputs/patches7/val/pneumonia/Viral Pneumonia-187_patch8.png\n",
            "/content/drive/MyDrive/final_year_project/outputs/patches7/val/pneumonia/Viral Pneumonia-187_patch9.png\n",
            "/content/drive/MyDrive/final_year_project/outputs/patches7/val/pneumonia/Viral Pneumonia-187_patch10.png\n",
            "/content/drive/MyDrive/final_year_project/outputs/patches7/val/pneumonia/Viral Pneumonia-187_patch11.png\n",
            "/content/drive/MyDrive/final_year_project/outputs/patches7/val/pneumonia/Viral Pneumonia-187_patch12.png\n",
            "/content/drive/MyDrive/final_year_project/outputs/patches7/val/pneumonia/Viral Pneumonia-187_patch13.png\n",
            "/content/drive/MyDrive/final_year_project/outputs/patches7/val/pneumonia/Viral Pneumonia-187_patch14.png\n",
            "/content/drive/MyDrive/final_year_project/outputs/patches7/val/pneumonia/Viral Pneumonia-187_patch16.png\n",
            "/content/drive/MyDrive/final_year_project/outputs/patches7/val/pneumonia/Viral Pneumonia-187_patch17.png\n",
            "/content/drive/MyDrive/final_year_project/outputs/patches7/val/pneumonia/Viral Pneumonia-187_patch18.png\n",
            "/content/drive/MyDrive/final_year_project/outputs/patches7/val/pneumonia/Viral Pneumonia-187_patch19.png\n",
            "/content/drive/MyDrive/final_year_project/outputs/patches7/val/pneumonia/Viral Pneumonia-189_patch0.png\n",
            "/content/drive/MyDrive/final_year_project/outputs/patches7/val/pneumonia/Viral Pneumonia-189_patch1.png\n",
            "/content/drive/MyDrive/final_year_project/outputs/patches7/val/pneumonia/Viral Pneumonia-189_patch2.png\n",
            "/content/drive/MyDrive/final_year_project/outputs/patches7/val/pneumonia/Viral Pneumonia-189_patch3.png\n",
            "/content/drive/MyDrive/final_year_project/outputs/patches7/val/pneumonia/Viral Pneumonia-189_patch5.png\n",
            "/content/drive/MyDrive/final_year_project/outputs/patches7/val/pneumonia/Viral Pneumonia-189_patch6.png\n",
            "/content/drive/MyDrive/final_year_project/outputs/patches7/val/pneumonia/Viral Pneumonia-189_patch7.png\n",
            "/content/drive/MyDrive/final_year_project/outputs/patches7/val/pneumonia/Viral Pneumonia-189_patch9.png\n",
            "/content/drive/MyDrive/final_year_project/outputs/patches7/val/pneumonia/Viral Pneumonia-189_patch10.png\n",
            "/content/drive/MyDrive/final_year_project/outputs/patches7/val/pneumonia/Viral Pneumonia-189_patch11.png\n",
            "/content/drive/MyDrive/final_year_project/outputs/patches7/val/pneumonia/Viral Pneumonia-189_patch12.png\n",
            "/content/drive/MyDrive/final_year_project/outputs/patches7/val/pneumonia/Viral Pneumonia-189_patch13.png\n",
            "/content/drive/MyDrive/final_year_project/outputs/patches7/val/pneumonia/Viral Pneumonia-189_patch14.png\n",
            "/content/drive/MyDrive/final_year_project/outputs/patches7/val/pneumonia/Viral Pneumonia-189_patch15.png\n",
            "/content/drive/MyDrive/final_year_project/outputs/patches7/val/pneumonia/Viral Pneumonia-189_patch16.png\n",
            "/content/drive/MyDrive/final_year_project/outputs/patches7/val/pneumonia/Viral Pneumonia-189_patch17.png\n",
            "/content/drive/MyDrive/final_year_project/outputs/patches7/val/pneumonia/Viral Pneumonia-189_patch18.png\n",
            "/content/drive/MyDrive/final_year_project/outputs/patches7/val/pneumonia/Viral Pneumonia-189_patch19.png\n",
            "/content/drive/MyDrive/final_year_project/outputs/patches7/val/pneumonia/Viral Pneumonia-15_patch0.png\n",
            "/content/drive/MyDrive/final_year_project/outputs/patches7/val/pneumonia/Viral Pneumonia-15_patch1.png\n",
            "/content/drive/MyDrive/final_year_project/outputs/patches7/val/pneumonia/Viral Pneumonia-15_patch2.png\n",
            "/content/drive/MyDrive/final_year_project/outputs/patches7/val/pneumonia/Viral Pneumonia-15_patch3.png\n",
            "/content/drive/MyDrive/final_year_project/outputs/patches7/val/pneumonia/Viral Pneumonia-15_patch4.png\n",
            "/content/drive/MyDrive/final_year_project/outputs/patches7/val/pneumonia/Viral Pneumonia-15_patch6.png\n",
            "/content/drive/MyDrive/final_year_project/outputs/patches7/val/pneumonia/Viral Pneumonia-15_patch8.png\n",
            "/content/drive/MyDrive/final_year_project/outputs/patches7/val/pneumonia/Viral Pneumonia-15_patch9.png\n",
            "/content/drive/MyDrive/final_year_project/outputs/patches7/val/pneumonia/Viral Pneumonia-15_patch10.png\n",
            "/content/drive/MyDrive/final_year_project/outputs/patches7/val/pneumonia/Viral Pneumonia-15_patch11.png\n",
            "/content/drive/MyDrive/final_year_project/outputs/patches7/val/pneumonia/Viral Pneumonia-15_patch12.png\n",
            "/content/drive/MyDrive/final_year_project/outputs/patches7/val/pneumonia/Viral Pneumonia-15_patch13.png\n",
            "/content/drive/MyDrive/final_year_project/outputs/patches7/val/pneumonia/Viral Pneumonia-15_patch14.png\n",
            "/content/drive/MyDrive/final_year_project/outputs/patches7/val/pneumonia/Viral Pneumonia-15_patch15.png\n",
            "/content/drive/MyDrive/final_year_project/outputs/patches7/val/pneumonia/Viral Pneumonia-15_patch16.png\n",
            "/content/drive/MyDrive/final_year_project/outputs/patches7/val/pneumonia/Viral Pneumonia-15_patch18.png\n",
            "/content/drive/MyDrive/final_year_project/outputs/patches7/val/pneumonia/Viral Pneumonia-15_patch19.png\n",
            "/content/drive/MyDrive/final_year_project/outputs/patches7/val/pneumonia/Viral Pneumonia-174_patch0.png\n",
            "/content/drive/MyDrive/final_year_project/outputs/patches7/val/pneumonia/Viral Pneumonia-174_patch1.png\n",
            "/content/drive/MyDrive/final_year_project/outputs/patches7/val/pneumonia/Viral Pneumonia-174_patch2.png\n",
            "/content/drive/MyDrive/final_year_project/outputs/patches7/val/pneumonia/Viral Pneumonia-174_patch3.png\n",
            "/content/drive/MyDrive/final_year_project/outputs/patches7/val/pneumonia/Viral Pneumonia-174_patch4.png\n",
            "/content/drive/MyDrive/final_year_project/outputs/patches7/val/pneumonia/Viral Pneumonia-174_patch5.png\n",
            "/content/drive/MyDrive/final_year_project/outputs/patches7/val/pneumonia/Viral Pneumonia-174_patch6.png\n",
            "/content/drive/MyDrive/final_year_project/outputs/patches7/val/pneumonia/Viral Pneumonia-174_patch8.png\n",
            "/content/drive/MyDrive/final_year_project/outputs/patches7/val/pneumonia/Viral Pneumonia-174_patch9.png\n",
            "/content/drive/MyDrive/final_year_project/outputs/patches7/val/pneumonia/Viral Pneumonia-174_patch10.png\n",
            "/content/drive/MyDrive/final_year_project/outputs/patches7/val/pneumonia/Viral Pneumonia-174_patch11.png\n",
            "/content/drive/MyDrive/final_year_project/outputs/patches7/val/pneumonia/Viral Pneumonia-174_patch12.png\n",
            "/content/drive/MyDrive/final_year_project/outputs/patches7/val/pneumonia/Viral Pneumonia-174_patch13.png\n",
            "/content/drive/MyDrive/final_year_project/outputs/patches7/val/pneumonia/Viral Pneumonia-174_patch14.png\n",
            "/content/drive/MyDrive/final_year_project/outputs/patches7/val/pneumonia/Viral Pneumonia-174_patch15.png\n",
            "/content/drive/MyDrive/final_year_project/outputs/patches7/val/pneumonia/Viral Pneumonia-174_patch16.png\n",
            "/content/drive/MyDrive/final_year_project/outputs/patches7/val/pneumonia/Viral Pneumonia-174_patch18.png\n",
            "/content/drive/MyDrive/final_year_project/outputs/patches7/val/pneumonia/Viral Pneumonia-174_patch19.png\n",
            "/content/drive/MyDrive/final_year_project/outputs/patches7/val/pneumonia/Viral Pneumonia-146_patch0.png\n",
            "/content/drive/MyDrive/final_year_project/outputs/patches7/val/pneumonia/Viral Pneumonia-146_patch1.png\n",
            "/content/drive/MyDrive/final_year_project/outputs/patches7/val/pneumonia/Viral Pneumonia-146_patch2.png\n",
            "/content/drive/MyDrive/final_year_project/outputs/patches7/val/pneumonia/Viral Pneumonia-146_patch3.png\n",
            "/content/drive/MyDrive/final_year_project/outputs/patches7/val/pneumonia/Viral Pneumonia-146_patch5.png\n",
            "/content/drive/MyDrive/final_year_project/outputs/patches7/val/pneumonia/Viral Pneumonia-146_patch7.png\n",
            "/content/drive/MyDrive/final_year_project/outputs/patches7/val/pneumonia/Viral Pneumonia-146_patch8.png\n",
            "/content/drive/MyDrive/final_year_project/outputs/patches7/val/pneumonia/Viral Pneumonia-146_patch10.png\n",
            "/content/drive/MyDrive/final_year_project/outputs/patches7/val/pneumonia/Viral Pneumonia-146_patch11.png\n",
            "/content/drive/MyDrive/final_year_project/outputs/patches7/val/pneumonia/Viral Pneumonia-146_patch12.png\n",
            "/content/drive/MyDrive/final_year_project/outputs/patches7/val/pneumonia/Viral Pneumonia-146_patch13.png\n",
            "/content/drive/MyDrive/final_year_project/outputs/patches7/val/pneumonia/Viral Pneumonia-146_patch14.png\n",
            "/content/drive/MyDrive/final_year_project/outputs/patches7/val/pneumonia/Viral Pneumonia-146_patch15.png\n",
            "/content/drive/MyDrive/final_year_project/outputs/patches7/val/pneumonia/Viral Pneumonia-146_patch16.png\n",
            "/content/drive/MyDrive/final_year_project/outputs/patches7/val/pneumonia/Viral Pneumonia-146_patch17.png\n",
            "/content/drive/MyDrive/final_year_project/outputs/patches7/val/pneumonia/Viral Pneumonia-146_patch18.png\n",
            "/content/drive/MyDrive/final_year_project/outputs/patches7/val/pneumonia/Viral Pneumonia-153_patch0.png\n",
            "/content/drive/MyDrive/final_year_project/outputs/patches7/val/pneumonia/Viral Pneumonia-153_patch1.png\n",
            "/content/drive/MyDrive/final_year_project/outputs/patches7/val/pneumonia/Viral Pneumonia-153_patch2.png\n",
            "/content/drive/MyDrive/final_year_project/outputs/patches7/val/pneumonia/Viral Pneumonia-153_patch3.png\n",
            "/content/drive/MyDrive/final_year_project/outputs/patches7/val/pneumonia/Viral Pneumonia-153_patch4.png\n",
            "/content/drive/MyDrive/final_year_project/outputs/patches7/val/pneumonia/Viral Pneumonia-153_patch5.png\n",
            "/content/drive/MyDrive/final_year_project/outputs/patches7/val/pneumonia/Viral Pneumonia-153_patch6.png\n",
            "/content/drive/MyDrive/final_year_project/outputs/patches7/val/pneumonia/Viral Pneumonia-153_patch7.png\n",
            "/content/drive/MyDrive/final_year_project/outputs/patches7/val/pneumonia/Viral Pneumonia-153_patch8.png\n",
            "/content/drive/MyDrive/final_year_project/outputs/patches7/val/pneumonia/Viral Pneumonia-153_patch9.png\n",
            "/content/drive/MyDrive/final_year_project/outputs/patches7/val/pneumonia/Viral Pneumonia-153_patch10.png\n",
            "/content/drive/MyDrive/final_year_project/outputs/patches7/val/pneumonia/Viral Pneumonia-153_patch11.png\n",
            "/content/drive/MyDrive/final_year_project/outputs/patches7/val/pneumonia/Viral Pneumonia-153_patch12.png\n",
            "/content/drive/MyDrive/final_year_project/outputs/patches7/val/pneumonia/Viral Pneumonia-153_patch13.png\n",
            "/content/drive/MyDrive/final_year_project/outputs/patches7/val/pneumonia/Viral Pneumonia-153_patch15.png\n",
            "/content/drive/MyDrive/final_year_project/outputs/patches7/val/pneumonia/Viral Pneumonia-153_patch17.png\n",
            "/content/drive/MyDrive/final_year_project/outputs/patches7/val/pneumonia/Viral Pneumonia-153_patch18.png\n",
            "/content/drive/MyDrive/final_year_project/outputs/patches7/val/pneumonia/Viral Pneumonia-150_patch0.png\n",
            "/content/drive/MyDrive/final_year_project/outputs/patches7/val/pneumonia/Viral Pneumonia-150_patch1.png\n",
            "/content/drive/MyDrive/final_year_project/outputs/patches7/val/pneumonia/Viral Pneumonia-150_patch2.png\n",
            "/content/drive/MyDrive/final_year_project/outputs/patches7/val/pneumonia/Viral Pneumonia-150_patch3.png\n",
            "/content/drive/MyDrive/final_year_project/outputs/patches7/val/pneumonia/Viral Pneumonia-150_patch4.png\n",
            "/content/drive/MyDrive/final_year_project/outputs/patches7/val/pneumonia/Viral Pneumonia-150_patch5.png\n",
            "/content/drive/MyDrive/final_year_project/outputs/patches7/val/pneumonia/Viral Pneumonia-150_patch6.png\n",
            "/content/drive/MyDrive/final_year_project/outputs/patches7/val/pneumonia/Viral Pneumonia-150_patch7.png\n",
            "/content/drive/MyDrive/final_year_project/outputs/patches7/val/pneumonia/Viral Pneumonia-150_patch8.png\n",
            "/content/drive/MyDrive/final_year_project/outputs/patches7/val/pneumonia/Viral Pneumonia-150_patch9.png\n",
            "/content/drive/MyDrive/final_year_project/outputs/patches7/val/pneumonia/Viral Pneumonia-150_patch10.png\n",
            "/content/drive/MyDrive/final_year_project/outputs/patches7/val/pneumonia/Viral Pneumonia-150_patch11.png\n",
            "/content/drive/MyDrive/final_year_project/outputs/patches7/val/pneumonia/Viral Pneumonia-150_patch12.png\n",
            "/content/drive/MyDrive/final_year_project/outputs/patches7/val/pneumonia/Viral Pneumonia-150_patch13.png\n",
            "/content/drive/MyDrive/final_year_project/outputs/patches7/val/pneumonia/Viral Pneumonia-150_patch14.png\n",
            "/content/drive/MyDrive/final_year_project/outputs/patches7/val/pneumonia/Viral Pneumonia-150_patch15.png\n",
            "/content/drive/MyDrive/final_year_project/outputs/patches7/val/pneumonia/Viral Pneumonia-150_patch17.png\n",
            "/content/drive/MyDrive/final_year_project/outputs/patches7/val/pneumonia/Viral Pneumonia-150_patch18.png\n",
            "/content/drive/MyDrive/final_year_project/outputs/patches7/val/pneumonia/Viral Pneumonia-150_patch19.png\n",
            "/content/drive/MyDrive/final_year_project/outputs/patches7/val/pneumonia/Viral Pneumonia-175_patch0.png\n",
            "/content/drive/MyDrive/final_year_project/outputs/patches7/val/pneumonia/Viral Pneumonia-175_patch1.png\n",
            "/content/drive/MyDrive/final_year_project/outputs/patches7/val/pneumonia/Viral Pneumonia-175_patch2.png\n",
            "/content/drive/MyDrive/final_year_project/outputs/patches7/val/pneumonia/Viral Pneumonia-175_patch3.png\n",
            "/content/drive/MyDrive/final_year_project/outputs/patches7/val/pneumonia/Viral Pneumonia-175_patch4.png\n",
            "/content/drive/MyDrive/final_year_project/outputs/patches7/val/pneumonia/Viral Pneumonia-175_patch5.png\n",
            "/content/drive/MyDrive/final_year_project/outputs/patches7/val/pneumonia/Viral Pneumonia-175_patch6.png\n",
            "/content/drive/MyDrive/final_year_project/outputs/patches7/val/pneumonia/Viral Pneumonia-175_patch7.png\n",
            "/content/drive/MyDrive/final_year_project/outputs/patches7/val/pneumonia/Viral Pneumonia-175_patch8.png\n",
            "/content/drive/MyDrive/final_year_project/outputs/patches7/val/pneumonia/Viral Pneumonia-175_patch9.png\n",
            "/content/drive/MyDrive/final_year_project/outputs/patches7/val/pneumonia/Viral Pneumonia-175_patch10.png\n",
            "/content/drive/MyDrive/final_year_project/outputs/patches7/val/pneumonia/Viral Pneumonia-175_patch11.png\n",
            "/content/drive/MyDrive/final_year_project/outputs/patches7/val/pneumonia/Viral Pneumonia-175_patch13.png\n",
            "/content/drive/MyDrive/final_year_project/outputs/patches7/val/pneumonia/Viral Pneumonia-175_patch14.png\n",
            "/content/drive/MyDrive/final_year_project/outputs/patches7/val/pneumonia/Viral Pneumonia-175_patch15.png\n",
            "/content/drive/MyDrive/final_year_project/outputs/patches7/val/pneumonia/Viral Pneumonia-175_patch16.png\n",
            "/content/drive/MyDrive/final_year_project/outputs/patches7/val/pneumonia/Viral Pneumonia-175_patch17.png\n",
            "/content/drive/MyDrive/final_year_project/outputs/patches7/val/pneumonia/Viral Pneumonia-175_patch18.png\n",
            "/content/drive/MyDrive/final_year_project/outputs/patches7/val/pneumonia/Viral Pneumonia-175_patch19.png\n",
            "/content/drive/MyDrive/final_year_project/outputs/patches7/val/pneumonia/Viral Pneumonia-179_patch0.png\n",
            "/content/drive/MyDrive/final_year_project/outputs/patches7/val/pneumonia/Viral Pneumonia-179_patch1.png\n",
            "/content/drive/MyDrive/final_year_project/outputs/patches7/val/pneumonia/Viral Pneumonia-179_patch2.png\n",
            "/content/drive/MyDrive/final_year_project/outputs/patches7/val/pneumonia/Viral Pneumonia-179_patch4.png\n",
            "/content/drive/MyDrive/final_year_project/outputs/patches7/val/pneumonia/Viral Pneumonia-179_patch5.png\n",
            "/content/drive/MyDrive/final_year_project/outputs/patches7/val/pneumonia/Viral Pneumonia-179_patch6.png\n",
            "/content/drive/MyDrive/final_year_project/outputs/patches7/val/pneumonia/Viral Pneumonia-179_patch7.png\n",
            "/content/drive/MyDrive/final_year_project/outputs/patches7/val/pneumonia/Viral Pneumonia-179_patch8.png\n",
            "/content/drive/MyDrive/final_year_project/outputs/patches7/val/pneumonia/Viral Pneumonia-179_patch9.png\n",
            "/content/drive/MyDrive/final_year_project/outputs/patches7/val/pneumonia/Viral Pneumonia-179_patch10.png\n",
            "/content/drive/MyDrive/final_year_project/outputs/patches7/val/pneumonia/Viral Pneumonia-179_patch11.png\n",
            "/content/drive/MyDrive/final_year_project/outputs/patches7/val/pneumonia/Viral Pneumonia-179_patch12.png\n",
            "/content/drive/MyDrive/final_year_project/outputs/patches7/val/pneumonia/Viral Pneumonia-179_patch14.png\n",
            "/content/drive/MyDrive/final_year_project/outputs/patches7/val/pneumonia/Viral Pneumonia-179_patch16.png\n",
            "/content/drive/MyDrive/final_year_project/outputs/patches7/val/pneumonia/Viral Pneumonia-179_patch17.png\n",
            "/content/drive/MyDrive/final_year_project/outputs/patches7/val/pneumonia/Viral Pneumonia-157_patch0.png\n",
            "/content/drive/MyDrive/final_year_project/outputs/patches7/val/pneumonia/Viral Pneumonia-157_patch1.png\n",
            "/content/drive/MyDrive/final_year_project/outputs/patches7/val/pneumonia/Viral Pneumonia-157_patch2.png\n",
            "/content/drive/MyDrive/final_year_project/outputs/patches7/val/pneumonia/Viral Pneumonia-157_patch3.png\n",
            "/content/drive/MyDrive/final_year_project/outputs/patches7/val/pneumonia/Viral Pneumonia-157_patch5.png\n",
            "/content/drive/MyDrive/final_year_project/outputs/patches7/val/pneumonia/Viral Pneumonia-157_patch6.png\n",
            "/content/drive/MyDrive/final_year_project/outputs/patches7/val/pneumonia/Viral Pneumonia-157_patch7.png\n",
            "/content/drive/MyDrive/final_year_project/outputs/patches7/val/pneumonia/Viral Pneumonia-157_patch8.png\n",
            "/content/drive/MyDrive/final_year_project/outputs/patches7/val/pneumonia/Viral Pneumonia-157_patch9.png\n",
            "/content/drive/MyDrive/final_year_project/outputs/patches7/val/pneumonia/Viral Pneumonia-157_patch10.png\n",
            "/content/drive/MyDrive/final_year_project/outputs/patches7/val/pneumonia/Viral Pneumonia-157_patch11.png\n",
            "/content/drive/MyDrive/final_year_project/outputs/patches7/val/pneumonia/Viral Pneumonia-157_patch12.png\n",
            "/content/drive/MyDrive/final_year_project/outputs/patches7/val/pneumonia/Viral Pneumonia-157_patch13.png\n",
            "/content/drive/MyDrive/final_year_project/outputs/patches7/val/pneumonia/Viral Pneumonia-157_patch14.png\n",
            "/content/drive/MyDrive/final_year_project/outputs/patches7/val/pneumonia/Viral Pneumonia-157_patch15.png\n",
            "/content/drive/MyDrive/final_year_project/outputs/patches7/val/pneumonia/Viral Pneumonia-157_patch16.png\n",
            "/content/drive/MyDrive/final_year_project/outputs/patches7/val/pneumonia/Viral Pneumonia-157_patch17.png\n",
            "/content/drive/MyDrive/final_year_project/outputs/patches7/val/pneumonia/Viral Pneumonia-157_patch18.png\n",
            "/content/drive/MyDrive/final_year_project/outputs/patches7/val/pneumonia/Viral Pneumonia-157_patch19.png\n",
            "/content/drive/MyDrive/final_year_project/outputs/patches7/val/pneumonia/Viral Pneumonia-176_patch0.png\n",
            "/content/drive/MyDrive/final_year_project/outputs/patches7/val/pneumonia/Viral Pneumonia-176_patch1.png\n",
            "/content/drive/MyDrive/final_year_project/outputs/patches7/val/pneumonia/Viral Pneumonia-176_patch6.png\n",
            "/content/drive/MyDrive/final_year_project/outputs/patches7/val/pneumonia/Viral Pneumonia-176_patch7.png\n",
            "/content/drive/MyDrive/final_year_project/outputs/patches7/val/pneumonia/Viral Pneumonia-176_patch8.png\n",
            "/content/drive/MyDrive/final_year_project/outputs/patches7/val/pneumonia/Viral Pneumonia-176_patch9.png\n",
            "/content/drive/MyDrive/final_year_project/outputs/patches7/val/pneumonia/Viral Pneumonia-176_patch10.png\n",
            "/content/drive/MyDrive/final_year_project/outputs/patches7/val/pneumonia/Viral Pneumonia-176_patch11.png\n",
            "/content/drive/MyDrive/final_year_project/outputs/patches7/val/pneumonia/Viral Pneumonia-176_patch12.png\n",
            "/content/drive/MyDrive/final_year_project/outputs/patches7/val/pneumonia/Viral Pneumonia-176_patch13.png\n",
            "/content/drive/MyDrive/final_year_project/outputs/patches7/val/pneumonia/Viral Pneumonia-176_patch14.png\n",
            "/content/drive/MyDrive/final_year_project/outputs/patches7/val/pneumonia/Viral Pneumonia-176_patch15.png\n",
            "/content/drive/MyDrive/final_year_project/outputs/patches7/val/pneumonia/Viral Pneumonia-176_patch16.png\n",
            "/content/drive/MyDrive/final_year_project/outputs/patches7/val/pneumonia/Viral Pneumonia-176_patch17.png\n",
            "/content/drive/MyDrive/final_year_project/outputs/patches7/val/pneumonia/Viral Pneumonia-176_patch18.png\n",
            "/content/drive/MyDrive/final_year_project/outputs/patches7/val/pneumonia/Viral Pneumonia-176_patch19.png\n",
            "/content/drive/MyDrive/final_year_project/outputs/patches7/val/pneumonia/Viral Pneumonia-177_patch0.png\n",
            "/content/drive/MyDrive/final_year_project/outputs/patches7/val/pneumonia/Viral Pneumonia-177_patch1.png\n",
            "/content/drive/MyDrive/final_year_project/outputs/patches7/val/pneumonia/Viral Pneumonia-177_patch2.png\n",
            "/content/drive/MyDrive/final_year_project/outputs/patches7/val/pneumonia/Viral Pneumonia-177_patch3.png\n",
            "/content/drive/MyDrive/final_year_project/outputs/patches7/val/pneumonia/Viral Pneumonia-177_patch4.png\n",
            "/content/drive/MyDrive/final_year_project/outputs/patches7/val/pneumonia/Viral Pneumonia-177_patch6.png\n",
            "/content/drive/MyDrive/final_year_project/outputs/patches7/val/pneumonia/Viral Pneumonia-177_patch7.png\n",
            "/content/drive/MyDrive/final_year_project/outputs/patches7/val/pneumonia/Viral Pneumonia-177_patch8.png\n",
            "/content/drive/MyDrive/final_year_project/outputs/patches7/val/pneumonia/Viral Pneumonia-177_patch9.png\n",
            "/content/drive/MyDrive/final_year_project/outputs/patches7/val/pneumonia/Viral Pneumonia-177_patch10.png\n",
            "/content/drive/MyDrive/final_year_project/outputs/patches7/val/pneumonia/Viral Pneumonia-177_patch11.png\n",
            "/content/drive/MyDrive/final_year_project/outputs/patches7/val/pneumonia/Viral Pneumonia-177_patch12.png\n",
            "/content/drive/MyDrive/final_year_project/outputs/patches7/val/pneumonia/Viral Pneumonia-177_patch13.png\n",
            "/content/drive/MyDrive/final_year_project/outputs/patches7/val/pneumonia/Viral Pneumonia-177_patch14.png\n",
            "/content/drive/MyDrive/final_year_project/outputs/patches7/val/pneumonia/Viral Pneumonia-177_patch15.png\n",
            "/content/drive/MyDrive/final_year_project/outputs/patches7/val/pneumonia/Viral Pneumonia-177_patch16.png\n",
            "/content/drive/MyDrive/final_year_project/outputs/patches7/val/pneumonia/Viral Pneumonia-177_patch17.png\n",
            "/content/drive/MyDrive/final_year_project/outputs/patches7/val/pneumonia/Viral Pneumonia-177_patch19.png\n",
            "/content/drive/MyDrive/final_year_project/outputs/patches7/val/pneumonia/Viral Pneumonia-156_patch0.png\n",
            "/content/drive/MyDrive/final_year_project/outputs/patches7/val/pneumonia/Viral Pneumonia-156_patch1.png\n",
            "/content/drive/MyDrive/final_year_project/outputs/patches7/val/pneumonia/Viral Pneumonia-156_patch2.png\n",
            "/content/drive/MyDrive/final_year_project/outputs/patches7/val/pneumonia/Viral Pneumonia-156_patch3.png\n",
            "/content/drive/MyDrive/final_year_project/outputs/patches7/val/pneumonia/Viral Pneumonia-156_patch4.png\n",
            "/content/drive/MyDrive/final_year_project/outputs/patches7/val/pneumonia/Viral Pneumonia-156_patch5.png\n",
            "/content/drive/MyDrive/final_year_project/outputs/patches7/val/pneumonia/Viral Pneumonia-156_patch6.png\n",
            "/content/drive/MyDrive/final_year_project/outputs/patches7/val/pneumonia/Viral Pneumonia-156_patch7.png\n",
            "/content/drive/MyDrive/final_year_project/outputs/patches7/val/pneumonia/Viral Pneumonia-156_patch9.png\n",
            "/content/drive/MyDrive/final_year_project/outputs/patches7/val/pneumonia/Viral Pneumonia-156_patch10.png\n",
            "/content/drive/MyDrive/final_year_project/outputs/patches7/val/pneumonia/Viral Pneumonia-156_patch11.png\n",
            "/content/drive/MyDrive/final_year_project/outputs/patches7/val/pneumonia/Viral Pneumonia-156_patch12.png\n",
            "/content/drive/MyDrive/final_year_project/outputs/patches7/val/pneumonia/Viral Pneumonia-156_patch13.png\n",
            "/content/drive/MyDrive/final_year_project/outputs/patches7/val/pneumonia/Viral Pneumonia-156_patch14.png\n",
            "/content/drive/MyDrive/final_year_project/outputs/patches7/val/pneumonia/Viral Pneumonia-156_patch16.png\n",
            "/content/drive/MyDrive/final_year_project/outputs/patches7/val/pneumonia/Viral Pneumonia-156_patch17.png\n",
            "/content/drive/MyDrive/final_year_project/outputs/patches7/val/pneumonia/Viral Pneumonia-156_patch18.png\n",
            "/content/drive/MyDrive/final_year_project/outputs/patches7/val/pneumonia/Viral Pneumonia-156_patch19.png\n",
            "/content/drive/MyDrive/final_year_project/outputs/patches7/val/pneumonia/Viral Pneumonia-188_patch0.png\n",
            "/content/drive/MyDrive/final_year_project/outputs/patches7/val/pneumonia/Viral Pneumonia-188_patch1.png\n",
            "/content/drive/MyDrive/final_year_project/outputs/patches7/val/pneumonia/Viral Pneumonia-188_patch3.png\n",
            "/content/drive/MyDrive/final_year_project/outputs/patches7/val/pneumonia/Viral Pneumonia-188_patch4.png\n",
            "/content/drive/MyDrive/final_year_project/outputs/patches7/val/pneumonia/Viral Pneumonia-188_patch5.png\n",
            "/content/drive/MyDrive/final_year_project/outputs/patches7/val/pneumonia/Viral Pneumonia-188_patch6.png\n",
            "/content/drive/MyDrive/final_year_project/outputs/patches7/val/pneumonia/Viral Pneumonia-188_patch7.png\n",
            "/content/drive/MyDrive/final_year_project/outputs/patches7/val/pneumonia/Viral Pneumonia-188_patch8.png\n",
            "/content/drive/MyDrive/final_year_project/outputs/patches7/val/pneumonia/Viral Pneumonia-188_patch9.png\n",
            "/content/drive/MyDrive/final_year_project/outputs/patches7/val/pneumonia/Viral Pneumonia-188_patch10.png\n",
            "/content/drive/MyDrive/final_year_project/outputs/patches7/val/pneumonia/Viral Pneumonia-188_patch11.png\n",
            "/content/drive/MyDrive/final_year_project/outputs/patches7/val/pneumonia/Viral Pneumonia-188_patch12.png\n",
            "/content/drive/MyDrive/final_year_project/outputs/patches7/val/pneumonia/Viral Pneumonia-188_patch13.png\n",
            "/content/drive/MyDrive/final_year_project/outputs/patches7/val/pneumonia/Viral Pneumonia-188_patch14.png\n",
            "/content/drive/MyDrive/final_year_project/outputs/patches7/val/pneumonia/Viral Pneumonia-188_patch15.png\n",
            "/content/drive/MyDrive/final_year_project/outputs/patches7/val/pneumonia/Viral Pneumonia-188_patch16.png\n",
            "/content/drive/MyDrive/final_year_project/outputs/patches7/val/pneumonia/Viral Pneumonia-188_patch17.png\n",
            "/content/drive/MyDrive/final_year_project/outputs/patches7/val/pneumonia/Viral Pneumonia-188_patch18.png\n",
            "/content/drive/MyDrive/final_year_project/outputs/patches7/val/pneumonia/Viral Pneumonia-188_patch19.png\n",
            "/content/drive/MyDrive/final_year_project/outputs/patches7/val/pneumonia/Viral Pneumonia-178_patch0.png\n",
            "/content/drive/MyDrive/final_year_project/outputs/patches7/val/pneumonia/Viral Pneumonia-178_patch1.png\n",
            "/content/drive/MyDrive/final_year_project/outputs/patches7/val/pneumonia/Viral Pneumonia-178_patch2.png\n",
            "/content/drive/MyDrive/final_year_project/outputs/patches7/val/pneumonia/Viral Pneumonia-178_patch3.png\n",
            "/content/drive/MyDrive/final_year_project/outputs/patches7/val/pneumonia/Viral Pneumonia-178_patch5.png\n",
            "/content/drive/MyDrive/final_year_project/outputs/patches7/val/pneumonia/Viral Pneumonia-178_patch6.png\n",
            "/content/drive/MyDrive/final_year_project/outputs/patches7/val/pneumonia/Viral Pneumonia-178_patch7.png\n",
            "/content/drive/MyDrive/final_year_project/outputs/patches7/val/pneumonia/Viral Pneumonia-178_patch9.png\n",
            "/content/drive/MyDrive/final_year_project/outputs/patches7/val/pneumonia/Viral Pneumonia-178_patch10.png\n",
            "/content/drive/MyDrive/final_year_project/outputs/patches7/val/pneumonia/Viral Pneumonia-178_patch11.png\n",
            "/content/drive/MyDrive/final_year_project/outputs/patches7/val/pneumonia/Viral Pneumonia-178_patch12.png\n",
            "/content/drive/MyDrive/final_year_project/outputs/patches7/val/pneumonia/Viral Pneumonia-178_patch14.png\n",
            "/content/drive/MyDrive/final_year_project/outputs/patches7/val/pneumonia/Viral Pneumonia-178_patch15.png\n",
            "/content/drive/MyDrive/final_year_project/outputs/patches7/val/pneumonia/Viral Pneumonia-178_patch16.png\n",
            "/content/drive/MyDrive/final_year_project/outputs/patches7/val/pneumonia/Viral Pneumonia-178_patch17.png\n",
            "/content/drive/MyDrive/final_year_project/outputs/patches7/val/pneumonia/Viral Pneumonia-178_patch18.png\n",
            "/content/drive/MyDrive/final_year_project/outputs/patches7/val/pneumonia/Viral Pneumonia-178_patch19.png\n",
            "/content/drive/MyDrive/final_year_project/outputs/patches7/val/pneumonia/Viral Pneumonia-163_patch1.png\n",
            "/content/drive/MyDrive/final_year_project/outputs/patches7/val/pneumonia/Viral Pneumonia-163_patch3.png\n",
            "/content/drive/MyDrive/final_year_project/outputs/patches7/val/pneumonia/Viral Pneumonia-163_patch4.png\n",
            "/content/drive/MyDrive/final_year_project/outputs/patches7/val/pneumonia/Viral Pneumonia-163_patch5.png\n",
            "/content/drive/MyDrive/final_year_project/outputs/patches7/val/pneumonia/Viral Pneumonia-163_patch6.png\n",
            "/content/drive/MyDrive/final_year_project/outputs/patches7/val/pneumonia/Viral Pneumonia-163_patch7.png\n",
            "/content/drive/MyDrive/final_year_project/outputs/patches7/val/pneumonia/Viral Pneumonia-163_patch8.png\n",
            "/content/drive/MyDrive/final_year_project/outputs/patches7/val/pneumonia/Viral Pneumonia-163_patch9.png\n",
            "/content/drive/MyDrive/final_year_project/outputs/patches7/val/pneumonia/Viral Pneumonia-163_patch10.png\n",
            "/content/drive/MyDrive/final_year_project/outputs/patches7/val/pneumonia/Viral Pneumonia-163_patch11.png\n",
            "/content/drive/MyDrive/final_year_project/outputs/patches7/val/pneumonia/Viral Pneumonia-163_patch12.png\n",
            "/content/drive/MyDrive/final_year_project/outputs/patches7/val/pneumonia/Viral Pneumonia-163_patch13.png\n",
            "/content/drive/MyDrive/final_year_project/outputs/patches7/val/pneumonia/Viral Pneumonia-163_patch14.png\n",
            "/content/drive/MyDrive/final_year_project/outputs/patches7/val/pneumonia/Viral Pneumonia-163_patch15.png\n",
            "/content/drive/MyDrive/final_year_project/outputs/patches7/val/pneumonia/Viral Pneumonia-163_patch16.png\n",
            "/content/drive/MyDrive/final_year_project/outputs/patches7/val/pneumonia/Viral Pneumonia-163_patch17.png\n",
            "/content/drive/MyDrive/final_year_project/outputs/patches7/val/pneumonia/Viral Pneumonia-163_patch18.png\n",
            "/content/drive/MyDrive/final_year_project/outputs/patches7/val/pneumonia/Viral Pneumonia-163_patch19.png\n",
            "/content/drive/MyDrive/final_year_project/outputs/patches7/val/pneumonia/Viral Pneumonia-192_patch0.png\n",
            "/content/drive/MyDrive/final_year_project/outputs/patches7/val/pneumonia/Viral Pneumonia-192_patch1.png\n",
            "/content/drive/MyDrive/final_year_project/outputs/patches7/val/pneumonia/Viral Pneumonia-192_patch2.png\n",
            "/content/drive/MyDrive/final_year_project/outputs/patches7/val/pneumonia/Viral Pneumonia-192_patch3.png\n",
            "/content/drive/MyDrive/final_year_project/outputs/patches7/val/pneumonia/Viral Pneumonia-192_patch4.png\n",
            "/content/drive/MyDrive/final_year_project/outputs/patches7/val/pneumonia/Viral Pneumonia-192_patch5.png\n",
            "/content/drive/MyDrive/final_year_project/outputs/patches7/val/pneumonia/Viral Pneumonia-192_patch6.png\n",
            "/content/drive/MyDrive/final_year_project/outputs/patches7/val/pneumonia/Viral Pneumonia-192_patch7.png\n",
            "/content/drive/MyDrive/final_year_project/outputs/patches7/val/pneumonia/Viral Pneumonia-192_patch8.png\n",
            "/content/drive/MyDrive/final_year_project/outputs/patches7/val/pneumonia/Viral Pneumonia-192_patch9.png\n",
            "/content/drive/MyDrive/final_year_project/outputs/patches7/val/pneumonia/Viral Pneumonia-192_patch10.png\n",
            "/content/drive/MyDrive/final_year_project/outputs/patches7/val/pneumonia/Viral Pneumonia-192_patch11.png\n",
            "/content/drive/MyDrive/final_year_project/outputs/patches7/val/pneumonia/Viral Pneumonia-192_patch12.png\n",
            "/content/drive/MyDrive/final_year_project/outputs/patches7/val/pneumonia/Viral Pneumonia-192_patch13.png\n",
            "/content/drive/MyDrive/final_year_project/outputs/patches7/val/pneumonia/Viral Pneumonia-192_patch14.png\n",
            "/content/drive/MyDrive/final_year_project/outputs/patches7/val/pneumonia/Viral Pneumonia-192_patch15.png\n",
            "/content/drive/MyDrive/final_year_project/outputs/patches7/val/pneumonia/Viral Pneumonia-192_patch16.png\n",
            "/content/drive/MyDrive/final_year_project/outputs/patches7/val/pneumonia/Viral Pneumonia-192_patch17.png\n",
            "/content/drive/MyDrive/final_year_project/outputs/patches7/val/pneumonia/Viral Pneumonia-192_patch18.png\n",
            "/content/drive/MyDrive/final_year_project/outputs/patches7/val/pneumonia/Viral Pneumonia-192_patch19.png\n",
            "/content/drive/MyDrive/final_year_project/outputs/patches7/val/pneumonia/Viral Pneumonia-19_patch0.png\n",
            "/content/drive/MyDrive/final_year_project/outputs/patches7/val/pneumonia/Viral Pneumonia-19_patch1.png\n",
            "/content/drive/MyDrive/final_year_project/outputs/patches7/val/pneumonia/Viral Pneumonia-19_patch2.png\n",
            "/content/drive/MyDrive/final_year_project/outputs/patches7/val/pneumonia/Viral Pneumonia-19_patch4.png\n",
            "/content/drive/MyDrive/final_year_project/outputs/patches7/val/pneumonia/Viral Pneumonia-19_patch5.png\n",
            "/content/drive/MyDrive/final_year_project/outputs/patches7/val/pneumonia/Viral Pneumonia-19_patch6.png\n",
            "/content/drive/MyDrive/final_year_project/outputs/patches7/val/pneumonia/Viral Pneumonia-19_patch8.png\n",
            "/content/drive/MyDrive/final_year_project/outputs/patches7/val/pneumonia/Viral Pneumonia-19_patch9.png\n",
            "/content/drive/MyDrive/final_year_project/outputs/patches7/val/pneumonia/Viral Pneumonia-19_patch10.png\n",
            "/content/drive/MyDrive/final_year_project/outputs/patches7/val/pneumonia/Viral Pneumonia-19_patch11.png\n",
            "/content/drive/MyDrive/final_year_project/outputs/patches7/val/pneumonia/Viral Pneumonia-19_patch12.png\n",
            "/content/drive/MyDrive/final_year_project/outputs/patches7/val/pneumonia/Viral Pneumonia-19_patch13.png\n",
            "/content/drive/MyDrive/final_year_project/outputs/patches7/val/pneumonia/Viral Pneumonia-19_patch15.png\n",
            "/content/drive/MyDrive/final_year_project/outputs/patches7/val/pneumonia/Viral Pneumonia-19_patch17.png\n",
            "/content/drive/MyDrive/final_year_project/outputs/patches7/val/pneumonia/Viral Pneumonia-19_patch18.png\n",
            "/content/drive/MyDrive/final_year_project/outputs/patches7/val/pneumonia/Viral Pneumonia-19_patch19.png\n",
            "/content/drive/MyDrive/final_year_project/outputs/patches7/val/pneumonia/Viral Pneumonia-14_patch0.png\n",
            "/content/drive/MyDrive/final_year_project/outputs/patches7/val/pneumonia/Viral Pneumonia-14_patch1.png\n",
            "/content/drive/MyDrive/final_year_project/outputs/patches7/val/pneumonia/Viral Pneumonia-14_patch2.png\n",
            "/content/drive/MyDrive/final_year_project/outputs/patches7/val/pneumonia/Viral Pneumonia-14_patch4.png\n",
            "/content/drive/MyDrive/final_year_project/outputs/patches7/val/pneumonia/Viral Pneumonia-14_patch5.png\n",
            "/content/drive/MyDrive/final_year_project/outputs/patches7/val/pneumonia/Viral Pneumonia-14_patch6.png\n",
            "/content/drive/MyDrive/final_year_project/outputs/patches7/val/pneumonia/Viral Pneumonia-14_patch8.png\n",
            "/content/drive/MyDrive/final_year_project/outputs/patches7/val/pneumonia/Viral Pneumonia-14_patch9.png\n",
            "/content/drive/MyDrive/final_year_project/outputs/patches7/val/pneumonia/Viral Pneumonia-14_patch10.png\n",
            "/content/drive/MyDrive/final_year_project/outputs/patches7/val/pneumonia/Viral Pneumonia-14_patch11.png\n",
            "/content/drive/MyDrive/final_year_project/outputs/patches7/val/pneumonia/Viral Pneumonia-14_patch12.png\n",
            "/content/drive/MyDrive/final_year_project/outputs/patches7/val/pneumonia/Viral Pneumonia-14_patch13.png\n",
            "/content/drive/MyDrive/final_year_project/outputs/patches7/val/pneumonia/Viral Pneumonia-14_patch14.png\n",
            "/content/drive/MyDrive/final_year_project/outputs/patches7/val/pneumonia/Viral Pneumonia-14_patch15.png\n",
            "/content/drive/MyDrive/final_year_project/outputs/patches7/val/pneumonia/Viral Pneumonia-14_patch16.png\n",
            "/content/drive/MyDrive/final_year_project/outputs/patches7/val/pneumonia/Viral Pneumonia-14_patch17.png\n",
            "/content/drive/MyDrive/final_year_project/outputs/patches7/val/pneumonia/Viral Pneumonia-14_patch18.png\n"
          ],
          "name": "stdout"
        }
      ]
    },
    {
      "cell_type": "code",
      "metadata": {
        "id": "tufn409WPvet"
      },
      "source": [
        ""
      ],
      "execution_count": null,
      "outputs": []
    }
  ]
}